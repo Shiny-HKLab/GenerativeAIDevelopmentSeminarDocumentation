{
 "cells": [
  {
   "cell_type": "markdown",
   "metadata": {},
   "source": [
    "# Gemini API を使用して、生成AIをPythonで利用する"
   ]
  },
  {
   "cell_type": "markdown",
   "metadata": {},
   "source": [
    "### 環境変数の設定（VSCode or Cursorの場合）\n",
    "\n",
    "1. ~/プロジェクトのフォルダ/GenerativeAIDevelopmentSeminarDocumentation/section03-basic-gemini-apiに移動し、**uv sync**を実行する\n",
    "2. 以下のセルを実行する"
   ]
  },
  {
   "cell_type": "code",
   "execution_count": 2,
   "metadata": {},
   "outputs": [],
   "source": [
    "from dotenv import load_dotenv\n",
    "import os\n",
    "\n",
    "load_dotenv()\n",
    "GOOGLE_API_KEY = os.getenv(\"GOOGLE_API_KEY\")\n",
    "assert GOOGLE_API_KEY is not None"
   ]
  },
  {
   "cell_type": "markdown",
   "metadata": {},
   "source": [
    "### 環境変数の設定（Google Colabの場合）\n",
    "\n",
    "1. Google ColabのシークレットタブからGoogle APIキーの「Google AI Studioでキーを管理」という項目をクリックしてGemini APIキーの管理画面に移動します\n",
    "2. 管理画面から「APIキーの作成」を行い、APIキーを追加します\n",
    "3. Google Colabに戻り、シークレットタブからGoogle APIキーの「Google AI Studioからキーをインポート」をクリックして先ほど追加したAPIキーを選択します\n",
    "4. シークレットタブに「GOOGLE_API_KEY」という名前が追加されているのを確認したら以下のセルを実行し、エラーが発生しないことを確認してください"
   ]
  },
  {
   "cell_type": "code",
   "execution_count": null,
   "metadata": {},
   "outputs": [],
   "source": [
    "from google.colab import userdata\n",
    "\n",
    "GOOGLE_API_KEY = userdata.get(\"GOOGLE_API_KEY\")\n",
    "assert GOOGLE_API_KEY is not None"
   ]
  },
  {
   "cell_type": "markdown",
   "metadata": {},
   "source": [
    "### 必要なライブラリをインストールします\n"
   ]
  },
  {
   "cell_type": "code",
   "execution_count": null,
   "metadata": {
    "vscode": {
     "languageId": "shellscript"
    }
   },
   "outputs": [],
   "source": [
    "!pip install google-genai requests"
   ]
  },
  {
   "cell_type": "markdown",
   "metadata": {},
   "source": [
    "### requestsライブラリを使用したGemini APIの呼び出し"
   ]
  },
  {
   "cell_type": "code",
   "execution_count": 3,
   "metadata": {},
   "outputs": [
    {
     "name": "stdout",
     "output_type": "stream",
     "text": [
      "{'candidates': [{'content': {'parts': [{'text': 'こんにちは！\\n(Konnichiwa!)\\n'}], 'role': 'model'}, 'finishReason': 'STOP', 'avgLogprobs': -0.09364598989486694}], 'usageMetadata': {'promptTokenCount': 2, 'candidatesTokenCount': 10, 'totalTokenCount': 12, 'promptTokensDetails': [{'modality': 'TEXT', 'tokenCount': 2}], 'candidatesTokensDetails': [{'modality': 'TEXT', 'tokenCount': 10}]}, 'modelVersion': 'gemini-1.5-flash', 'responseId': 'zqtPaOSYCs6SmecPh6jH6Ak'}\n"
     ]
    }
   ],
   "source": [
    "import requests\n",
    "import json\n",
    "\n",
    "# 使用するモデルのIDを指定します\n",
    "model_id = \"gemini-1.5-flash\"\n",
    "# APIエンドポイントのURLを指定します\n",
    "API_ENDPOINT = f\"https://generativelanguage.googleapis.com/v1beta/models/{model_id}:generateContent\"\n",
    "\n",
    "prompt = \"こんにちは！\"\n",
    "\n",
    "headers = {\n",
    "    \"Content-Type\": \"application/json\",\n",
    "}\n",
    "\"\"\"\n",
    "payload (辞書)\n",
    "└── \"contents\" (リスト)\n",
    "    └── [0]番目の要素 (辞書)  ← 会話の1ターン目（ユーザー入力）\n",
    "        └── \"parts\" (リスト)\n",
    "            └── [0]番目の要素 (辞書) ← コンテンツの1要素（テキスト）\n",
    "                └── \"text\" (文字列) ← 実際のプロンプトテキスト (例: \"こんにちは！\")\n",
    "\"\"\"\n",
    "\n",
    "payload = {\"contents\": [{\"parts\": [{\"text\": prompt}]}]}\n",
    "params = {\"key\": GOOGLE_API_KEY}\n",
    "\n",
    "try:\n",
    "    response = requests.post(\n",
    "        API_ENDPOINT, headers=headers, params=params, data=json.dumps(payload)\n",
    "    )\n",
    "    response.raise_for_status()  # HTTPエラーがあれば例外を発生させる\n",
    "\n",
    "    response_data = response.json()\n",
    "    # 応答の内容を確認する\n",
    "    print(response_data)\n",
    "\n",
    "except requests.exceptions.HTTPError as http_err:\n",
    "    print(f\"HTTPエラー: {http_err}\")\n",
    "\n",
    "except Exception as err:\n",
    "    print(f\"その他のエラー: {err}\")"
   ]
  },
  {
   "cell_type": "markdown",
   "metadata": {},
   "source": [
    "### 【復習1】Gemini APIのレスポンスからAIの応答メッセージを抽出する\n",
    "- 生のデータから応答メッセージだけを抽出し、出力しましょう。\n",
    "- get_gemini_responseの引数（prompt）を変更して、応答内容に変化があるのを確認してください。"
   ]
  },
  {
   "cell_type": "code",
   "execution_count": null,
   "metadata": {},
   "outputs": [],
   "source": [
    "BASE_API_URL = \"https://generativelanguage.googleapis.com/v1beta/models/\"\n",
    "\n",
    "def get_gemini_response(prompt, model_id=\"gemini-1.5-flash\"):\n",
    "    \"\"\"\n",
    "    Google Gemini APIにリクエストを送信し、モデルからの応答テキストを取得します。\n",
    "\n",
    "    Args:\n",
    "        prompt (str): モデルに送信するプロンプト（指示文）。\n",
    "        model_id (str, optional): 使用するモデルのID。デフォルトは \"gemini-1.5-flash\"。\n",
    "\n",
    "    Returns:\n",
    "        dict[str, any]: モデルからの応答を含む辞書。成功時は応答データ\n",
    "    \"\"\"\n",
    "    api_url = f\"{BASE_API_URL}{model_id}:generateContent\"\n",
    "    headers = {\n",
    "        \"Content-Type\": \"application/json\",\n",
    "    }\n",
    "    payload = {\"contents\": [{\"parts\": [{\"text\": prompt}]}]}\n",
    "    params = {\"key\": GOOGLE_API_KEY}\n",
    "\n",
    "\n",
    "    response = requests.post(api_url, headers=headers, params=params, data=json.dumps(payload))\n",
    "\n",
    "    try:\n",
    "        if response.status_code == 200:\n",
    "            return response.json()\n",
    "        else:\n",
    "            response.raise_for_status()\n",
    "\n",
    "    except Exception as e:\n",
    "        print(f\"APIリクエスト中にエラーが発生しました: {e}\")\n",
    "        raise e\n",
    "\n",
    "prompt = \"こんにちは！自己紹介をしてくれますか？\"\n",
    "response = get_gemini_response(prompt)"
   ]
  },
  {
   "cell_type": "code",
   "execution_count": null,
   "metadata": {},
   "outputs": [],
   "source": [
    "# 応答からテキストを抽出して表示\n",
    "\n",
    "#\n",
    "print(...)"
   ]
  },
  {
   "cell_type": "markdown",
   "metadata": {},
   "source": [
    "### Google Gen AI SDKを使用したGemini APIの呼び出し"
   ]
  },
  {
   "cell_type": "code",
   "execution_count": 3,
   "metadata": {},
   "outputs": [
    {
     "name": "stdout",
     "output_type": "stream",
     "text": [
      "candidates=[Candidate(content=Content(parts=[Part(video_metadata=None, thought=None, code_execution_result=None, executable_code=None, file_data=None, function_call=None, function_response=None, inline_data=None, text='PythonでHTTPリクエストを送信する方法はいくつかあります。最も一般的なのは`requests`ライブラリと`urllib`モジュールを使う方法です。\\n\\n\\n**1. requestsライブラリを使う方法 (推奨)**\\n\\n`requests`ライブラリはシンプルで使いやすいインターフェースを提供しており、多くのPython開発者によって好まれています。  インストールには`pip install requests`を使用します。\\n\\n```python\\nimport requests\\n\\n# GETリクエスト\\nresponse = requests.get(\\'https://www.example.com\\')\\n\\n# ステータスコードを確認\\nprint(response.status_code)  # 200 OKであれば成功\\n\\n# レスポンスボディを取得 (テキストとして)\\nprint(response.text)\\n\\n# レスポンスボディを取得 (JSONとして)\\n#  レスポンスヘッダがapplication/jsonなどを示している場合にのみ使用してください。\\ntry:\\n    data = response.json()\\n    print(data)\\nexcept ValueError as e:\\n    print(f\"JSONデコードエラー: {e}\")\\n\\n\\n# POSTリクエスト\\npayload = {\\'key1\\': \\'value1\\', \\'key2\\': \\'value2\\'}\\nresponse = requests.post(\\'https://httpbin.org/post\\', data=payload)  # httpbin.orgはテスト用のサイト\\nprint(response.text)\\n\\n# ヘッダの指定\\nheaders = {\\'User-Agent\\': \\'My Custom User Agent\\'}\\nresponse = requests.get(\\'https://www.example.com\\', headers=headers)\\n\\n# ファイルのアップロード\\nfiles = {\\'file\\': open(\\'path/to/your/file.txt\\', \\'rb\\')} # \\'rb\\'はバイナリモードで開きます\\nresponse = requests.post(\\'https://httpbin.org/post\\', files=files)\\n\\n# タイムアウトの設定 (秒単位)\\nresponse = requests.get(\\'https://www.example.com\\', timeout=5)\\n\\n# エラーハンドリング\\ntry:\\n    response = requests.get(\\'https://www.example.com\\')\\n    response.raise_for_status()  # ステータスコードが4xxまたは5xxの場合、HTTPErrorを発生させる\\n    # 成功時の処理\\nexcept requests.exceptions.RequestException as e:\\n    print(f\"HTTPリクエストエラー: {e}\")\\n\\n\\n```\\n\\n\\n**2. urllibモジュールを使う方法**\\n\\n`urllib`モジュールはPython標準ライブラリの一部なので、追加のインストールは必要ありません。  `requests`ライブラリほど使いやすくはありませんが、シンプルなリクエストには十分です。\\n\\n```python\\nimport urllib.request\\nimport json\\n\\n# GETリクエスト\\nwith urllib.request.urlopen(\\'https://www.example.com\\') as response:\\n    html = response.read().decode(\\'utf-8\\')  # デコードが必要な場合があります\\n    print(html)\\n\\n# POSTリクエスト\\nurl = \\'https://httpbin.org/post\\'\\ndata = bytes(json.dumps({\\'key1\\':\\'value1\\', \\'key2\\':\\'value2\\'}), \\'utf-8\\')\\nreq = urllib.request.Request(url, data=data, headers={\\'Content-Type\\': \\'application/json\\'})\\nwith urllib.request.urlopen(req) as response:\\n    print(response.read().decode(\\'utf-8\\'))\\n```\\n\\n\\nどちらの方法を使うかは、プロジェクトの要件や好みによって異なります。  `requests`ライブラリはより便利で使いやすいですが、`urllib`モジュールは標準ライブラリにあるため、依存関係を減らすことができます。  ほとんどの場合、`requests`ライブラリを使う方が推奨されます。  エラー処理についても`requests`の方が洗練されています。\\n\\n\\n上記コードを実行する際は、`httpbin.org`のようなテスト用のAPIエンドポイントを使用するか、アクセス権限のある自身のサーバーを使用してください。  `www.example.com`へのリクエストは頻繁に行うとサーバーに負荷がかかる可能性があります。  また、ファイルアップロードの例では、`path/to/your/file.txt`を実際のファイルパスに置き換えてください。\\n')], role='model'), citation_metadata=None, finish_message=None, token_count=None, finish_reason=<FinishReason.STOP: 'STOP'>, avg_logprobs=-0.1692026561422492, grounding_metadata=None, index=None, logprobs_result=None, safety_ratings=None)] create_time=None response_id=None model_version='gemini-1.5-flash' prompt_feedback=None usage_metadata=GenerateContentResponseUsageMetadata(cache_tokens_details=None, cached_content_token_count=None, candidates_token_count=861, candidates_tokens_details=[ModalityTokenCount(modality=<MediaModality.TEXT: 'TEXT'>, token_count=861)], prompt_token_count=10, prompt_tokens_details=[ModalityTokenCount(modality=<MediaModality.TEXT: 'TEXT'>, token_count=10)], thoughts_token_count=None, tool_use_prompt_token_count=None, tool_use_prompt_tokens_details=None, total_token_count=871, traffic_type=None) automatic_function_calling_history=[] parsed=None\n"
     ]
    }
   ],
   "source": [
    "from google import genai\n",
    "prompt = \"PythonでHTTPリクエストを送信する方法を教えてください。\"\n",
    "model_id = \"gemini-1.5-flash\"\n",
    "\n",
    "client = genai.Client(api_key=GOOGLE_API_KEY)\n",
    "response = client.models.generate_content(\n",
    "    model=model_id, contents=prompt\n",
    ")\n",
    "print(response)"
   ]
  },
  {
   "cell_type": "code",
   "execution_count": 4,
   "metadata": {},
   "outputs": [
    {
     "name": "stdout",
     "output_type": "stream",
     "text": [
      "PythonでHTTPリクエストを送信する方法はいくつかあります。最も一般的なのは`requests`ライブラリと`urllib`モジュールを使う方法です。\n",
      "\n",
      "\n",
      "**1. requestsライブラリを使う方法 (推奨)**\n",
      "\n",
      "`requests`ライブラリはシンプルで使いやすいインターフェースを提供しており、多くのPython開発者によって好まれています。  インストールには`pip install requests`を使用します。\n",
      "\n",
      "```python\n",
      "import requests\n",
      "\n",
      "# GETリクエスト\n",
      "response = requests.get('https://www.example.com')\n",
      "\n",
      "# ステータスコードを確認\n",
      "print(response.status_code)  # 200 OKであれば成功\n",
      "\n",
      "# レスポンスボディを取得 (テキストとして)\n",
      "print(response.text)\n",
      "\n",
      "# レスポンスボディを取得 (JSONとして)\n",
      "#  レスポンスヘッダがapplication/jsonなどを示している場合にのみ使用してください。\n",
      "try:\n",
      "    data = response.json()\n",
      "    print(data)\n",
      "except ValueError as e:\n",
      "    print(f\"JSONデコードエラー: {e}\")\n",
      "\n",
      "\n",
      "# POSTリクエスト\n",
      "payload = {'key1': 'value1', 'key2': 'value2'}\n",
      "response = requests.post('https://httpbin.org/post', data=payload)  # httpbin.orgはテスト用のサイト\n",
      "print(response.text)\n",
      "\n",
      "# ヘッダの指定\n",
      "headers = {'User-Agent': 'My Custom User Agent'}\n",
      "response = requests.get('https://www.example.com', headers=headers)\n",
      "\n",
      "# ファイルのアップロード\n",
      "files = {'file': open('path/to/your/file.txt', 'rb')} # 'rb'はバイナリモードで開きます\n",
      "response = requests.post('https://httpbin.org/post', files=files)\n",
      "\n",
      "# タイムアウトの設定 (秒単位)\n",
      "response = requests.get('https://www.example.com', timeout=5)\n",
      "\n",
      "# エラーハンドリング\n",
      "try:\n",
      "    response = requests.get('https://www.example.com')\n",
      "    response.raise_for_status()  # ステータスコードが4xxまたは5xxの場合、HTTPErrorを発生させる\n",
      "    # 成功時の処理\n",
      "except requests.exceptions.RequestException as e:\n",
      "    print(f\"HTTPリクエストエラー: {e}\")\n",
      "\n",
      "\n",
      "```\n",
      "\n",
      "\n",
      "**2. urllibモジュールを使う方法**\n",
      "\n",
      "`urllib`モジュールはPython標準ライブラリの一部なので、追加のインストールは必要ありません。  `requests`ライブラリほど使いやすくはありませんが、シンプルなリクエストには十分です。\n",
      "\n",
      "```python\n",
      "import urllib.request\n",
      "import json\n",
      "\n",
      "# GETリクエスト\n",
      "with urllib.request.urlopen('https://www.example.com') as response:\n",
      "    html = response.read().decode('utf-8')  # デコードが必要な場合があります\n",
      "    print(html)\n",
      "\n",
      "# POSTリクエスト\n",
      "url = 'https://httpbin.org/post'\n",
      "data = bytes(json.dumps({'key1':'value1', 'key2':'value2'}), 'utf-8')\n",
      "req = urllib.request.Request(url, data=data, headers={'Content-Type': 'application/json'})\n",
      "with urllib.request.urlopen(req) as response:\n",
      "    print(response.read().decode('utf-8'))\n",
      "```\n",
      "\n",
      "\n",
      "どちらの方法を使うかは、プロジェクトの要件や好みによって異なります。  `requests`ライブラリはより便利で使いやすいですが、`urllib`モジュールは標準ライブラリにあるため、依存関係を減らすことができます。  ほとんどの場合、`requests`ライブラリを使う方が推奨されます。  エラー処理についても`requests`の方が洗練されています。\n",
      "\n",
      "\n",
      "上記コードを実行する際は、`httpbin.org`のようなテスト用のAPIエンドポイントを使用するか、アクセス権限のある自身のサーバーを使用してください。  `www.example.com`へのリクエストは頻繁に行うとサーバーに負荷がかかる可能性があります。  また、ファイルアップロードの例では、`path/to/your/file.txt`を実際のファイルパスに置き換えてください。\n",
      "\n"
     ]
    }
   ],
   "source": [
    "print(response.text)"
   ]
  },
  {
   "cell_type": "markdown",
   "metadata": {},
   "source": [
    "### 温度（Temperature）の設定\n",
    "「温度」は、AIの創造性を調整するパラメータです。値が低いと（0に近いと）予測可能で安定した回答になり、値が高いと（1に近いと）より創造的でバラエティに富んだ回答になります。"
   ]
  },
  {
   "cell_type": "code",
   "execution_count": 6,
   "metadata": {},
   "outputs": [
    {
     "name": "stdout",
     "output_type": "stream",
     "text": [
      "なぜスコットランド人はゴルフのバッグにスコッチを詰め込むのか？\n",
      "\n",
      "…カートに酔って運転したくないからです！\n",
      "\n"
     ]
    }
   ],
   "source": [
    "from google import genai\n",
    "from google.genai import types\n",
    "\n",
    "prompt = \"面白い冗談を1つ教えてください\"\n",
    "model_id = \"gemini-1.5-flash\"\n",
    "\n",
    "client = genai.Client(api_key=GOOGLE_API_KEY)\n",
    "\n",
    "response = client.models.generate_content(\n",
    "    model=model_id,\n",
    "    contents=prompt,\n",
    "    config=types.GenerateContentConfig(\n",
    "        temperature=0.5,  # 創造性の度合いを調整\n",
    "    )\n",
    ")\n",
    "\n",
    "print(response.text)"
   ]
  },
  {
   "cell_type": "markdown",
   "metadata": {},
   "source": [
    "### 最大出力トークン数\n",
    "AIの回答の長さを制限したい場合は、「max_output_tokens」を設定します。"
   ]
  },
  {
   "cell_type": "code",
   "execution_count": null,
   "metadata": {},
   "outputs": [],
   "source": [
    "from google import genai\n",
    "from google.genai import types\n",
    "\n",
    "prompt = \"Pythonの再帰関数について教えてください。\"\n",
    "\n",
    "model_id = \"gemini-1.5-flash\"\n",
    "client = genai.Client(api_key=GOOGLE_API_KEY)\n",
    "response = client.models.generate_content(\n",
    "    model=model_id,\n",
    "    contents=prompt,\n",
    "    config=types.GenerateContentConfig(\n",
    "        max_output_tokens=50,  # 応答の最大トークン数\n",
    "    )\n",
    ")\n",
    "print(response.text)"
   ]
  },
  {
   "cell_type": "markdown",
   "metadata": {},
   "source": [
    "### システム指示（System Instruction）\n",
    "AIに特定の役割や振る舞いを指示したい場合は、「system_instruction」を使います。"
   ]
  },
  {
   "cell_type": "code",
   "execution_count": null,
   "metadata": {},
   "outputs": [
    {
     "name": "stdout",
     "output_type": "stream",
     "text": [
      "ほんなら、ええかいな？  昔の話やで、よ～く聞いとくれやす。\n",
      "\n",
      "私が若い頃ってな、まだ戦争が終わったばっかりで、食べるもんも少なかったんや。お腹空かしとる子らが、わんさかおったもんや。  毎日、芋と麦ご飯が精一杯やったわ。  それでも、みんな元気やったなぁ。  近所の子らと、空き地で遊んでな、日が暮れるのも忘れてはしゃいでたんや。  泥んこになって、親に怒られたりもしたけど、楽しかったわ～。\n",
      "\n",
      "ある日、近所のオバチャンが、こっそりおにぎり分けてくれはったんよ。  ほんの小さな、\n"
     ]
    }
   ],
   "source": [
    "from google import genai\n",
    "from google.genai import types\n",
    "\n",
    "\n",
    "client = genai.Client(api_key=GOOGLE_API_KEY)\n",
    "model_id = \"gemini-1.5-flash\"\n",
    "\n",
    "response = client.models.generate_content(\n",
    "    model=model_id,\n",
    "    contents=\"過去の思い出話をしてください\",\n",
    "    config=types.GenerateContentConfig(\n",
    "        system_instruction=\"あなたは関西弁を話すおばあちゃんです\",\n",
    "        temperature=0.7,  # 出力の多様性を制御する温度パラメータ\n",
    "        max_output_tokens=150,  # 出力の最大トークン数\n",
    "    ),\n",
    ")\n",
    "\n",
    "print(response.text)\n"
   ]
  },
  {
   "cell_type": "markdown",
   "metadata": {},
   "source": [
    "### ステートレスな生成（チャットの文脈保持無し）\n"
   ]
  },
  {
   "cell_type": "code",
   "execution_count": 8,
   "metadata": {},
   "outputs": [],
   "source": [
    "from google import genai\n",
    "from google.genai import types\n",
    "\n",
    "model_id = \"gemini-1.5-flash\"\n",
    "system_prompt = \"あなたは会話の履歴を記憶し、参照できるAIアシスタントです。以前の会話内容を覚えていて、それに基づいて応答してください。ユーザーに関する情報（名前など）は必ず記憶してください。\"\n",
    "client = genai.Client(api_key=GOOGLE_API_KEY)\n",
    "\n",
    "response1 = client.models.generate_content(\n",
    "    model=model_id,\n",
    "    contents=\"私の名前は田中です\",\n",
    "    config=types.GenerateContentConfig(\n",
    "        system_instruction=system_prompt,\n",
    "        temperature=0.7,\n",
    "    ),\n",
    ")\n",
    "\n",
    "response2 = client.models.generate_content(\n",
    "    model=model_id,\n",
    "    contents=\"私の名前を覚えていますか？\",\n",
    "    config=types.GenerateContentConfig(\n",
    "        system_instruction=system_prompt,\n",
    "        temperature=0.7,\n",
    "    ),\n",
    ")"
   ]
  },
  {
   "cell_type": "code",
   "execution_count": 9,
   "metadata": {},
   "outputs": [
    {
     "data": {
      "text/plain": [
       "'田中さん、はじめまして。よろしくお願いいたします。\\n何かご用件はございますか？\\n'"
      ]
     },
     "execution_count": 9,
     "metadata": {},
     "output_type": "execute_result"
    }
   ],
   "source": [
    "response1.text"
   ]
  },
  {
   "cell_type": "code",
   "execution_count": 10,
   "metadata": {},
   "outputs": [
    {
     "data": {
      "text/plain": [
       "'申し訳ありませんが、まだあなたの名前を覚えていません。初めてお話しするようなので、教えていただけますか？\\n'"
      ]
     },
     "execution_count": 10,
     "metadata": {},
     "output_type": "execute_result"
    }
   ],
   "source": [
    "response2.text"
   ]
  },
  {
   "cell_type": "markdown",
   "metadata": {},
   "source": [
    "### チャットボットの作成\n",
    "\n",
    "単発の質問だけでなく、会話を続けるチャットボットを作ることもできます。これには「チャットセッション」を使います。"
   ]
  },
  {
   "cell_type": "code",
   "execution_count": 5,
   "metadata": {},
   "outputs": [
    {
     "name": "stdout",
     "output_type": "stream",
     "text": [
      "AI: こんにちは、Aliceさん！ 私はAIアシスタントなので名前はありません。  これから、Aliceさんのお手伝いができるのを楽しみにしています。何かご用件はありますか？\n",
      "\n"
     ]
    }
   ],
   "source": [
    "from google import genai\n",
    "from google.genai import types\n",
    "\n",
    "client = genai.Client(api_key=GOOGLE_API_KEY)\n",
    "system_prompt = \"あなたは会話の履歴を記憶し、参照できるAIアシスタントです。以前の会話内容を覚えていて、それに基づいて応答してください。ユーザーに関する情報（名前など）は必ず記憶してください。\"\n",
    "model_id = \"gemini-1.5-flash\"\n",
    "\n",
    "chat = client.chats.create(\n",
    "    model=model_id,\n",
    "    config=types.GenerateContentConfig(\n",
    "        system_instruction=system_prompt,\n",
    "        temperature=0.7,\n",
    "    ),\n",
    ")\n",
    "\n",
    "# 最初のメッセージ\n",
    "response = chat.send_message(\n",
    "    \"こんにちは、私の名前はAliceです。あなたの名前は何ですか？\"\n",
    ")\n",
    "print(f\"AI: {response.text}\")\n"
   ]
  },
  {
   "cell_type": "code",
   "execution_count": 8,
   "metadata": {},
   "outputs": [
    {
     "name": "stdout",
     "output_type": "stream",
     "text": [
      "AI: はい、覚えていますよ。あなたはAliceさんです。\n",
      "何か他に聞いてみたいことや、手伝ってほしいことはありますか？\n",
      "\n"
     ]
    }
   ],
   "source": [
    "# 2番目のメッセージ（同じチャットオブジェクトを使用）\n",
    "response = chat.send_message(\"私は誰か覚えていますか？\")\n",
    "print(f\"AI: {response.text}\")"
   ]
  },
  {
   "cell_type": "markdown",
   "metadata": {},
   "source": [
    "### ストリーミング生成"
   ]
  },
  {
   "cell_type": "code",
   "execution_count": 34,
   "metadata": {},
   "outputs": [
    {
     "name": "stdout",
     "output_type": "stream",
     "text": [
      "PythonでHTTPリクエストを送信する方法はいくつかあります。最も一般的な方法は、`requests`ライブラリを使うことです。  `requests`はシンプルで使いやすく、多くの機能を提供しています。  他に`urllib`モジュールも標準ライブラリとして含まれていますが、`requests`ほど使いやすくはありません。\n",
      "\n",
      "**1. requestsライブラリを使う方法 (推奨)**\n",
      "\n",
      "まず、`requests`ライブラリをインストールする必要があります。  pipを使ってインストールしましょう。\n",
      "\n",
      "```bash\n",
      "pip install requests\n",
      "```\n",
      "\n",
      "インストール後、以下のコードでHTTPリクエストを送信できます。\n",
      "\n",
      "```python\n",
      "import requests\n",
      "\n",
      "# GETリクエスト\n",
      "response = requests.get(\"https://www.example.com\")\n",
      "\n",
      "# レスポンスのステータスコードを確認\n",
      "print(response.status_code)  # 200 OK なら成功\n",
      "\n",
      "# レスポンスのコンテンツを取得 (テキスト形式)\n",
      "print(response.text)\n",
      "\n",
      "# レスポンスのコンテンツを取得 (JSON形式)\n",
      "try:\n",
      "    data = response.json()\n",
      "    print(data)\n",
      "except ValueError:\n",
      "    print(\"JSON形式ではありません\")\n",
      "\n",
      "# POSTリクエスト\n",
      "payload = {'key1': 'value1', 'key2': 'value2'}\n",
      "response = requests.post(\"https://httpbin.org/post\", data=payload)\n",
      "print(response.text)\n",
      "\n",
      "\n",
      "# ヘッダーの設定\n",
      "headers = {'User-Agent': 'My User Agent'}\n",
      "response = requests.get(\"https://www.example.com\", headers=headers)\n",
      "\n",
      "# タイムアウトの設定 (秒単位)\n",
      "response = requests.get(\"https://www.example.com\", timeout=5)\n",
      "\n",
      "# エラーハンドリング\n",
      "try:\n",
      "    response = requests.get(\"https://www.example.com\")\n",
      "    response.raise_for_status()  # ステータスコードが4xxか5xxなら例外を発生させる\n",
      "    # ここでレスポンスを処理する\n",
      "except requests.exceptions.RequestException as e:\n",
      "    print(f\"An error occurred: {e}\")\n",
      "\n",
      "```\n",
      "\n",
      "この例では、`requests.get()`でGETリクエスト、`requests.post()`でPOSTリクエストを送信しています。  `data`引数にデータを渡し、`headers`引数でヘッダーを設定できます。  `timeout`引数でタイムアウトを設定し、`raise_for_status()`でエラーチェックを行います。 `httpbin.org` はリクエストの内容をそのまま返す便利なサービスです。\n",
      "\n",
      "\n",
      "**2. urllibモジュールを使う方法**\n",
      "\n",
      "`requests`ライブラリがない環境では、標準ライブラリの`urllib`モジュールを使用できますが、`requests`ほどシンプルではありません。\n",
      "\n",
      "```python\n",
      "import urllib.request\n",
      "\n",
      "# GETリクエスト\n",
      "with urllib.request.urlopen(\"https://www.example.com\") as response:\n",
      "    html = response.read().decode('utf-8')\n",
      "    print(html)\n",
      "\n",
      "# POSTリクエスト (少し複雑)\n",
      "import urllib.parse\n",
      "\n",
      "url = \"https://httpbin.org/post\"\n",
      "data = urllib.parse.urlencode({'key1': 'value1', 'key2': 'value2'}).encode()\n",
      "req = urllib.request.Request(url, data=data)\n",
      "with urllib.request.urlopen(req) as response:\n",
      "    html = response.read().decode('utf-8')\n",
      "    print(html)\n",
      "```\n",
      "\n",
      "`urllib`モジュールはより低レベルなAPIを提供するため、エラー処理なども自分で実装する必要があります。\n",
      "\n",
      "\n",
      "**どちらを使うべきか？**\n",
      "\n",
      "ほとんどの場合、**`requests`ライブラリを使うことを強くお勧めします。**  `requests`は使いやすく、エラー処理も容易で、多くの便利な機能を提供しています。  `urllib`は、`requests`ライブラリが使えない場合や、非常にシンプルなリクエストだけで十分な場合にのみ考慮するべきです。  `requests`をインストールするだけで、PythonでのHTTPリクエストの処理が大幅に簡単になります。\n"
     ]
    }
   ],
   "source": [
    "prompt = \"PythonでHTTPリクエストを送信する方法を教えてください。\"\n",
    "\n",
    "for chunk in client.models.generate_content_stream(\n",
    "    model=model_id,\n",
    "    contents=prompt\n",
    "):\n",
    "    print(chunk.text, end=\"\", flush=True)"
   ]
  },
  {
   "cell_type": "markdown",
   "metadata": {},
   "source": [
    "### チャットでのストリーミング\n",
    "チャットでもストリーミングを使うことができます。"
   ]
  },
  {
   "cell_type": "code",
   "execution_count": 35,
   "metadata": {},
   "outputs": [
    {
     "name": "stdout",
     "output_type": "stream",
     "text": [
      "こんにちは、Bobさん！私はAIアシスタントなので名前はありませんが、あなたのお名前は覚えていますよ。何かお手伝いできることはありますか？\n"
     ]
    }
   ],
   "source": [
    "from google import genai\n",
    "\n",
    "client = genai.Client(api_key=GOOGLE_API_KEY)\n",
    "chat = client.chats.create(\n",
    "    model=model_id,\n",
    "    config=types.GenerateContentConfig(\n",
    "        system_instruction=\"あなたは会話の履歴を記憶し、参照できるAIアシスタントです。以前の会話内容を覚えていて、それに基づいて応答してください。ユーザーに関する情報（名前など）は必ず記憶してください。\",\n",
    "        temperature=0.7,\n",
    "    ),\n",
    ")\n",
    "\n",
    "# 最初のメッセージ\n",
    "prompt = \"こんにちは、私の名前はBobです。あなたの名前は何ですか？\"\n",
    "\n",
    "for chunk in chat.send_message_stream(prompt):\n",
    "    print(chunk.text, end=\"\", flush=True)"
   ]
  },
  {
   "cell_type": "code",
   "execution_count": 36,
   "metadata": {},
   "outputs": [
    {
     "name": "stdout",
     "output_type": "stream",
     "text": [
      "はい、覚えていますよ。あなたはBobさんです。  何か他に聞いてみたいことはありますか？\n"
     ]
    }
   ],
   "source": [
    "# 2番目のメッセージ（同じチャットオブジェクトを使用）\n",
    "prompt = \"私は誰か覚えていますか？\"\n",
    "for chunk in chat.send_message_stream(prompt):\n",
    "    print(chunk.text, end=\"\", flush=True)"
   ]
  },
  {
   "cell_type": "code",
   "execution_count": null,
   "metadata": {},
   "outputs": [],
   "source": []
  }
 ],
 "metadata": {
  "kernelspec": {
   "display_name": ".venv",
   "language": "python",
   "name": "python3"
  },
  "language_info": {
   "codemirror_mode": {
    "name": "ipython",
    "version": 3
   },
   "file_extension": ".py",
   "mimetype": "text/x-python",
   "name": "python",
   "nbconvert_exporter": "python",
   "pygments_lexer": "ipython3",
   "version": "3.11.0"
  }
 },
 "nbformat": 4,
 "nbformat_minor": 2
}
