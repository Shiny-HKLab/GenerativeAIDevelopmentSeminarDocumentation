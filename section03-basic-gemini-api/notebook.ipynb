{
 "cells": [
  {
   "cell_type": "markdown",
   "metadata": {},
   "source": [
    "# Gemini API を使用して、生成AIをPythonで利用する"
   ]
  },
  {
   "cell_type": "markdown",
   "metadata": {},
   "source": [
    "### 環境変数の設定（Google Colabの場合）\n",
    "\n",
    "1. Google ColabのシークレットタブからGoogle APIキーの「Google AI Studioでキーを管理」という項目をクリックしてGemini APIキーの管理画面に移動します\n",
    "2. 管理画面から「APIキーの作成」を行い、APIキーを追加します\n",
    "3. Google Colabに戻り、シークレットタブからGoogle APIキーの「Google AI Studioからキーをインポート」をクリックして先ほど追加したAPIキーを選択します\n",
    "4. シークレットタブに「GOOGLE_API_KEY」という名前が追加されているのを確認したら以下のセルを実行し、エラーが発生しないことを確認してください"
   ]
  },
  {
   "cell_type": "code",
   "execution_count": null,
   "metadata": {},
   "outputs": [],
   "source": [
    "from google.colab import userdata\n",
    "\n",
    "GOOGLE_API_KEY = userdata.get(\"GOOGLE_API_KEY\")\n",
    "assert GOOGLE_API_KEY is not None"
   ]
  },
  {
   "cell_type": "markdown",
   "metadata": {},
   "source": [
    "### 必要なライブラリをインストールします\n"
   ]
  },
  {
   "cell_type": "code",
   "execution_count": null,
   "metadata": {
    "vscode": {
     "languageId": "shellscript"
    }
   },
   "outputs": [],
   "source": [
    "!pip install google-genai requests"
   ]
  },
  {
   "cell_type": "markdown",
   "metadata": {},
   "source": [
    "### requestsライブラリを使用したGemini APIの呼び出し"
   ]
  },
  {
   "cell_type": "code",
   "execution_count": null,
   "metadata": {},
   "outputs": [
    {
     "name": "stdout",
     "output_type": "stream",
     "text": [
      "{'candidates': [{'content': {'parts': [{'text': 'こんにちは！\\n\\n何かお手伝いできることはありますか？\\n'}], 'role': 'model'}, 'finishReason': 'STOP', 'avgLogprobs': -0.03462708989779154}], 'usageMetadata': {'promptTokenCount': 2, 'candidatesTokenCount': 12, 'totalTokenCount': 14, 'promptTokensDetails': [{'modality': 'TEXT', 'tokenCount': 2}], 'candidatesTokensDetails': [{'modality': 'TEXT', 'tokenCount': 12}]}, 'modelVersion': 'gemini-1.5-pro-002'}\n"
     ]
    }
   ],
   "source": [
    "import requests\n",
    "import json\n",
    "\n",
    "# 使用するモデルのIDを指定します\n",
    "model_id = \"gemini-1.5-flash\"\n",
    "# APIエンドポイントのURLを指定します\n",
    "API_ENDPOINT = f\"https://generativelanguage.googleapis.com/v1beta/models/{model_id}:generateContent\"\n",
    "\n",
    "prompt = \"こんにちは！\"\n",
    "\n",
    "headers = {\n",
    "    \"Content-Type\": \"application/json\",\n",
    "}\n",
    "\"\"\"\n",
    "payload (辞書)\n",
    "└── \"contents\" (リスト)\n",
    "    └── [0]番目の要素 (辞書)  ← 会話の1ターン目（ユーザー入力）\n",
    "        └── \"parts\" (リスト)\n",
    "            └── [0]番目の要素 (辞書) ← コンテンツの1要素（テキスト）\n",
    "                └── \"text\" (文字列) ← 実際のプロンプトテキスト (例: \"こんにちは！\")\n",
    "\"\"\"\n",
    "\n",
    "payload = {\"contents\": [{\"parts\": [{\"text\": prompt}]}]}\n",
    "params = {\"key\": GOOGLE_API_KEY}\n",
    "\n",
    "try:\n",
    "    response = requests.post(\n",
    "        API_ENDPOINT, headers=headers, params=params, data=json.dumps(payload)\n",
    "    )\n",
    "    response.raise_for_status()  # HTTPエラーがあれば例外を発生させる\n",
    "\n",
    "    response_data = response.json()\n",
    "    # 応答の内容を確認する\n",
    "    print(response_data)\n",
    "\n",
    "except requests.exceptions.HTTPError as http_err:\n",
    "    print(f\"HTTPエラー: {http_err}\")\n",
    "\n",
    "except Exception as err:\n",
    "    print(f\"その他のエラー: {err}\")"
   ]
  },
  {
   "cell_type": "markdown",
   "metadata": {},
   "source": [
    "### 【演習1】Gemini APIのレスポンスからAIの応答メッセージを抽出する\n",
    "生のデータから応答メッセージだけを抽出し、出力しましょう"
   ]
  },
  {
   "cell_type": "code",
   "execution_count": null,
   "metadata": {},
   "outputs": [],
   "source": [
    "BASE_API_URL = \"https://generativelanguage.googleapis.com/v1beta/models/\"\n",
    "\n",
    "def get_gemini_response(prompt, model_id=\"gemini-1.5-flash\"):\n",
    "    \"\"\"\n",
    "    Google Gemini APIにリクエストを送信し、モデルからの応答テキストを取得します。\n",
    "\n",
    "    Args:\n",
    "        prompt (str): モデルに送信するプロンプト（指示文）。\n",
    "        model_id (str, optional): 使用するモデルのID。デフォルトは \"gemini-1.5-flash\"。\n",
    "\n",
    "    Returns:\n",
    "        dict[str, any]: モデルからの応答を含む辞書。成功時は応答データ\n",
    "    \"\"\"\n",
    "    api_url = f\"{BASE_API_URL}{model_id}:generateContent\"\n",
    "    headers = {\n",
    "        \"Content-Type\": \"application/json\",\n",
    "    }\n",
    "    payload = {\"contents\": [{\"parts\": [{\"text\": prompt}]}]}\n",
    "    params = {\"key\": GOOGLE_API_KEY}\n",
    "    \n",
    "\n",
    "    response = requests.post(api_url, headers=headers, params=params, data=json.dumps(payload))\n",
    "\n",
    "    try:\n",
    "        if response.status_code == 200:\n",
    "            return response.json()\n",
    "        else:\n",
    "            response.raise_for_status()\n",
    "\n",
    "    except Exception as e:\n",
    "        print(f\"APIリクエスト中にエラーが発生しました: {e}\")\n",
    "        raise e\n",
    "\n",
    "prompt = \"こんにちは！自己紹介をしてくれますか？\"\n",
    "response = get_gemini_response(prompt)"
   ]
  },
  {
   "cell_type": "code",
   "execution_count": null,
   "metadata": {},
   "outputs": [],
   "source": [
    "# 応答からテキストを抽出して表示\n"
   ]
  },
  {
   "cell_type": "markdown",
   "metadata": {},
   "source": [
    "### Google Gen AI SDKを使用したGemini APIの呼び出し"
   ]
  },
  {
   "cell_type": "code",
   "execution_count": 5,
   "metadata": {},
   "outputs": [
    {
     "name": "stdout",
     "output_type": "stream",
     "text": [
      "PythonでHTTPリクエストを送信する方法はいくつかありますが、主な方法は以下のとおりです。\n",
      "\n",
      "**1. `urllib.request` (Python 3 標準ライブラリ):**\n",
      "\n",
      "シンプルなリクエストに適しています。\n",
      "\n",
      "```python\n",
      "import urllib.request\n",
      "\n",
      "url = \"https://www.example.com\"\n",
      "\n",
      "try:\n",
      "    response = urllib.request.urlopen(url)\n",
      "    html = response.read().decode('utf-8')  # レスポンスボディを取得\n",
      "    print(html)\n",
      "\n",
      "except urllib.error.URLError as e:\n",
      "    print(f\"Error: {e.reason}\")\n",
      "```\n",
      "\n",
      "**`urllib.request` を使ったPOSTリクエスト:**\n",
      "\n",
      "```python\n",
      "import urllib.request\n",
      "import urllib.parse\n",
      "\n",
      "url = \"https://www.example.com/submit\"\n",
      "data = {'key1': 'value1', 'key2': 'value2'}\n",
      "encoded_data = urllib.parse.urlencode(data).encode('utf-8')\n",
      "\n",
      "req = urllib.request.Request(url, data=encoded_data)  # data引数にPOSTデータを渡す\n",
      "req.add_header('Content-Type', 'application/x-www-form-urlencoded')  # Content-Typeヘッダーを追加\n",
      "\n",
      "try:\n",
      "    response = urllib.request.urlopen(req)\n",
      "    html = response.read().decode('utf-8')\n",
      "    print(html)\n",
      "\n",
      "except urllib.error.URLError as e:\n",
      "    print(f\"Error: {e.reason}\")\n",
      "```\n",
      "\n",
      "\n",
      "**2. `requests` (外部ライブラリ):**\n",
      "\n",
      "より高度な機能が必要な場合、`requests`ライブラリがおすすめです。使いやすく、様々な機能が提供されています。インストールは `pip install requests` で行います。\n",
      "\n",
      "```python\n",
      "import requests\n",
      "\n",
      "url = \"https://www.example.com\"\n",
      "\n",
      "try:\n",
      "    response = requests.get(url)\n",
      "    response.raise_for_status()  # ステータスコードが200以外の場合例外を発生させる\n",
      "    print(response.text)  # レスポンスボディを取得\n",
      "\n",
      "except requests.exceptions.RequestException as e:\n",
      "    print(f\"Error: {e}\")\n",
      "```\n",
      "\n",
      "**`requests` を使ったPOSTリクエスト:**\n",
      "\n",
      "```python\n",
      "import requests\n",
      "\n",
      "url = \"https://www.example.com/submit\"\n",
      "data = {'key1': 'value1', 'key2': 'value2'}\n",
      "\n",
      "try:\n",
      "    response = requests.post(url, data=data)\n",
      "    response.raise_for_status()\n",
      "    print(response.text)\n",
      "\n",
      "except requests.exceptions.RequestException as e:\n",
      "    print(f\"Error: {e}\")\n",
      "```\n",
      "\n",
      "**`requests` のその他の便利な機能:**\n",
      "\n",
      "* **JSONデータの送信/受信:** `response.json()` でJSONデータをパースできます。POSTする際も`json`引数を使えます。\n",
      "* **カスタムヘッダーの設定:** `headers`引数を使用します。\n",
      "* **タイムアウトの設定:** `timeout`引数を使用します。\n",
      "* **セッションの管理:** `requests.Session()` を使用することで、Cookieなどの情報を保持できます。\n",
      "\n",
      "**ライブラリの選択:**\n",
      "\n",
      "* シンプルなGETリクエストで十分な場合は `urllib.request` で問題ありません。\n",
      "* 複雑なリクエスト、POSTリクエスト、JSONの処理、ヘッダーのカスタマイズなどが必要な場合は `requests` を強く推奨します。  可読性、機能性、使いやすさの面で優れています。\n",
      "\n",
      "\n",
      "これらの例を参考に、必要に応じてヘッダーの追加、タイムアウトの設定、エラー処理などを追加してください。  `requests` ライブラリはドキュメントも充実しているので、より詳細な使い方については公式ドキュメントを参照することをお勧めします。 (https://docs.python-requests.org/en/latest/)\n",
      "\n"
     ]
    }
   ],
   "source": [
    "from google import genai\n",
    "prompt = \"PythonでHTTPリクエストを送信する方法を教えてください。\"\n",
    "\n",
    "client = genai.Client(api_key=GOOGLE_API_KEY)\n",
    "response = client.models.generate_content(\n",
    "    model=model_id, contents=prompt\n",
    ")\n",
    "print(response.text)"
   ]
  },
  {
   "cell_type": "markdown",
   "metadata": {},
   "source": [
    "### 温度（Temperature）の設定\n",
    "「温度」は、AIの創造性を調整するパラメータです。値が低いと（0に近いと）予測可能で安定した回答になり、値が高いと（1に近いと）より創造的でバラエティに富んだ回答になります。"
   ]
  },
  {
   "cell_type": "code",
   "execution_count": null,
   "metadata": {},
   "outputs": [],
   "source": [
    "from google import genai\n",
    "from google.genai import types\n",
    "\n",
    "prompt = \"面白い冗談を1つ教えてください\"\n",
    "\n",
    "client = genai.Client(\n",
    "    api_key=GOOGLE_API_KEY,\n",
    "    model=model_id,\n",
    "    prompt=prompt,\n",
    "    config=types.GenerationConfig(\n",
    "        temperature=0.5,  # 出力の多様性を制御する温度パラメータ\n",
    "    )\n",
    ")\n",
    "\n",
    "print(response.text)"
   ]
  },
  {
   "cell_type": "markdown",
   "metadata": {},
   "source": [
    "### 最大出力トークン数\n",
    "AIの回答の長さを制限したい場合は、「max_output_tokens」を設定します。"
   ]
  },
  {
   "cell_type": "code",
   "execution_count": null,
   "metadata": {},
   "outputs": [],
   "source": [
    "from google import genai\n",
    "from google.genai import types\n",
    "\n",
    "prompt = \"Pythonの再帰関数について教えてください。\"\n",
    "\n",
    "client = genai.Client(\n",
    "    api_key=GOOGLE_API_KEY,\n",
    "    model=model_id,\n",
    "    prompt=prompt,\n",
    "    config=types.GenerationConfig(\n",
    "        max_output_tokens=100,  # 出力の最大トークン数\n",
    "    ),\n",
    ")\n",
    "\n",
    "print(response.text)\n"
   ]
  },
  {
   "cell_type": "markdown",
   "metadata": {},
   "source": [
    "### システム指示（System Instruction）\n",
    "AIに特定の役割や振る舞いを指示したい場合は、「system_instruction」を使います。"
   ]
  },
  {
   "cell_type": "code",
   "execution_count": null,
   "metadata": {},
   "outputs": [],
   "source": [
    "from google import genai\n",
    "\n",
    "client = genai.Client(api_key=GOOGLE_API_KEY)\n",
    "response = client.models.generate_content(\n",
    "    model=\"gemini-2.0-flash-001\",\n",
    "    contents=\"過去の思い出話をしてください\",\n",
    "    config=types.GenerateContentConfig(\n",
    "        system_instruction=\"あなたは関西弁を話すおばあちゃんです\",\n",
    "        temperature=0.7,  # 出力の多様性を制御する温度パラメータ\n",
    "        max_output_tokens=150,  # 出力の最大トークン数\n",
    "    ),\n",
    ")\n",
    "\n",
    "print(response.text)\n"
   ]
  },
  {
   "cell_type": "markdown",
   "metadata": {},
   "source": [
    "### チャットボットの作成\n",
    "\n",
    "単発の質問だけでなく、会話を続けるチャットボットを作ることもできます。これには「チャットセッション」を使います。"
   ]
  },
  {
   "cell_type": "code",
   "execution_count": null,
   "metadata": {},
   "outputs": [],
   "source": []
  },
  {
   "cell_type": "markdown",
   "metadata": {},
   "source": [
    "### ストリーミング生成"
   ]
  },
  {
   "cell_type": "code",
   "execution_count": 6,
   "metadata": {},
   "outputs": [
    {
     "name": "stdout",
     "output_type": "stream",
     "text": [
      "PythonでHTTPリクエストを送信する方法はいくつかあります。最も一般的な方法は、`requests`ライブラリを使用することです。`requests`は使いやすく、様々な機能を提供しています。他に組み込みの`urllib`ライブラリも使用できますが、`requests`の方が簡潔で直感的に使用できるため、一般的に推奨されます。\n",
      "\n",
      "**1. `requests`ライブラリを使う方法 (推奨)**\n",
      "\n",
      "```python\n",
      "import requests\n",
      "\n",
      "# GETリクエスト\n",
      "response = requests.get(\"https://www.example.com\")\n",
      "\n",
      "# ステータスコードを確認\n",
      "if response.status_code == 200:\n",
      "    # レスポンスボディ (テキスト) を取得\n",
      "    print(response.text)\n",
      "    # レスポンスボディ (バイト列) を取得\n",
      "    # print(response.content)\n",
      "    # レスポンスヘッダーを取得\n",
      "    print(response.headers)\n",
      "else:\n",
      "    print(f\"リクエストが失敗しました: {response.status_code}\")\n",
      "\n",
      "\n",
      "# POSTリクエスト (データを送信)\n",
      "data = {'key1': 'value1', 'key2': 'value2'}\n",
      "response = requests.post(\"https://www.example.com/submit\", data=data)\n",
      "\n",
      "# JSONデータを送信\n",
      "import json\n",
      "data = {'key1': 'value1', 'key2': 'value2'}\n",
      "response = requests.post(\"https://www.example.com/submit\", json=data)  # Content-Type: application/json が自動的に設定される\n",
      "\n",
      "# カスタムヘッダーを送信\n",
      "headers = {'User-Agent': 'My User Agent'}\n",
      "response = requests.get(\"https://www.example.com\", headers=headers)\n",
      "\n",
      "# タイムアウトを設定 (秒)\n",
      "response = requests.get(\"https://www.example.com\", timeout=5)\n",
      "\n",
      "# クエリパラメータを送信\n",
      "params = {'param1': 'value1', 'param2': 'value2'}\n",
      "response = requests.get(\"https://www.example.com\", params=params)  # URL: https://www.example.com?param1=value1&param2=value2\n",
      "\n",
      "\n",
      "# ファイルをアップロード\n",
      "files = {'file': open('my_file.txt', 'rb')}\n",
      "response = requests.post(\"https://www.example.com/upload\", files=files)\n",
      "```\n",
      "\n",
      "**2. `urllib`ライブラリを使う方法**\n",
      "\n",
      "```python\n",
      "from urllib.request import urlopen, Request\n",
      "from urllib.parse import urlencode\n",
      "\n",
      "# GETリクエスト\n",
      "response = urlopen(\"https://www.example.com\")\n",
      "html = response.read().decode('utf-8')\n",
      "print(html)\n",
      "\n",
      "\n",
      "# POSTリクエスト\n",
      "data = {'key1': 'value1', 'key2': 'value2'}\n",
      "data = urlencode(data).encode('utf-8')\n",
      "req = Request(\"https://www.example.com/submit\", data=data)\n",
      "req.add_header('Content-Type', 'application/x-www-form-urlencoded')  # Content-Typeを明示的に設定\n",
      "response = urlopen(req)\n",
      "response_body = response.read().decode('utf-8')\n",
      "print(response_body)\n",
      "```\n",
      "\n",
      "\n",
      "`requests` ライブラリを使用する場合は、まず `pip install requests` でインストールする必要があります。 `urllib` は Python の標準ライブラリなので、インストールは不要です。\n",
      "\n",
      "\n",
      "上記は基本的な使用方法です。`requests` ライブラリには、セッション管理、ストリーミングダウンロード、認証など、より高度な機能も多数あります。必要に応じて公式ドキュメントを参照してください。 [https://requests.readthedocs.io/en/latest/](https://requests.readthedocs.io/en/latest/)\n",
      "\n",
      "\n",
      "どの方法を選ぶかは、プロジェクトの要件や個人の好みによりますが、簡潔さと使いやすさから、`requests` ライブラリが一般的に推奨されます。"
     ]
    }
   ],
   "source": [
    "for chunk in client.models.generate_content_stream(\n",
    "    model=model_id,\n",
    "    contents=prompt\n",
    "):\n",
    "    print(chunk.text, end=\"\", flush=True)"
   ]
  },
  {
   "cell_type": "markdown",
   "metadata": {},
   "source": [
    "### ツールの使用"
   ]
  },
  {
   "cell_type": "code",
   "execution_count": 10,
   "metadata": {},
   "outputs": [
    {
     "name": "stdout",
     "output_type": "stream",
     "text": [
      "東京は雨です。\n"
     ]
    }
   ],
   "source": [
    "from google.genai import types\n",
    "\n",
    "def get_current_weather(location: str) -> str:\n",
    "    \"\"\"Returns the current weather.\n",
    "\n",
    "    Args:\n",
    "      location: The city and state, e.g. San Francisco, CA\n",
    "    \"\"\"\n",
    "    return \"雨\"\n",
    "\n",
    "\n",
    "response = client.models.generate_content(\n",
    "    model=model_id,\n",
    "    contents=\"東京都の天気を教えて\",\n",
    "    config=types.GenerateContentConfig(\n",
    "        tools=[get_current_weather],\n",
    "    )\n",
    ")\n",
    "\n",
    "print(response.text)"
   ]
  },
  {
   "cell_type": "code",
   "execution_count": null,
   "metadata": {},
   "outputs": [],
   "source": []
  }
 ],
 "metadata": {
  "kernelspec": {
   "display_name": ".venv",
   "language": "python",
   "name": "python3"
  },
  "language_info": {
   "codemirror_mode": {
    "name": "ipython",
    "version": 3
   },
   "file_extension": ".py",
   "mimetype": "text/x-python",
   "name": "python",
   "nbconvert_exporter": "python",
   "pygments_lexer": "ipython3",
   "version": "3.11.2"
  }
 },
 "nbformat": 4,
 "nbformat_minor": 2
}
