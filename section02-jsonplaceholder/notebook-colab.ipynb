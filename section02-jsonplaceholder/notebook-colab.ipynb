{
 "cells": [
  {
   "cell_type": "markdown",
   "metadata": {},
   "source": [
    "## JSONPlaceholder API"
   ]
  },
  {
   "cell_type": "markdown",
   "metadata": {},
   "source": [
    "### ライブラリのインストール（Colabの場合）"
   ]
  },
  {
   "cell_type": "code",
   "execution_count": null,
   "metadata": {
    "vscode": {
     "languageId": "shellscript"
    }
   },
   "outputs": [],
   "source": [
    "!pip install requests"
   ]
  },
  {
   "cell_type": "markdown",
   "metadata": {},
   "source": [
    "### PythonでJSONを扱う：翻訳作業"
   ]
  },
  {
   "cell_type": "code",
   "execution_count": 1,
   "metadata": {},
   "outputs": [
    {
     "name": "stdout",
     "output_type": "stream",
     "text": [
      "{\"name\": \"田中太郎\", \"age\": 12, \"hobbies\": [\"読書\", \"サッカー\"]}\n",
      "鈴木花子\n",
      "11\n"
     ]
    }
   ],
   "source": [
    "import json\n",
    "\n",
    "# Pythonの辞書（dict）をJSON文字列に変換（シリアライズ）\n",
    "python_dict = {\n",
    "    \"name\": \"田中太郎\",\n",
    "    \"age\": 12,\n",
    "    \"hobbies\": [\"読書\", \"サッカー\"]\n",
    "}\n",
    "json_str = json.dumps(python_dict, ensure_ascii=False)\n",
    "print(json_str)\n",
    "# 出力: {\"name\": \"田中太郎\", \"age\": 12, \"hobbies\": [\"読書\", \"サッカー\"]}\n",
    "\n",
    "# JSON文字列をPythonの辞書に変換（デシリアライズ）\n",
    "json_data = '{\"name\": \"鈴木花子\", \"age\": 11}'\n",
    "python_obj = json.loads(json_data)\n",
    "print(python_obj[\"name\"])  # 出力: 鈴木花子\n",
    "print(python_obj[\"age\"])  # 出力: 11"
   ]
  },
  {
   "cell_type": "markdown",
   "metadata": {},
   "source": [
    "### 【演習1】JSONモジュール\n",
    "以下のPython辞書をJSON文字列に変換し、さらにそれをPythonオブジェクトに戻して中身を確認するコードを書いてください。\n",
    "\n",
    "```python\n",
    "student = {\n",
    "    \"id\": 101,\n",
    "    \"name\": \"山田一郎\",\n",
    "    \"scores\": [85, 92, 78]\n",
    "}\n",
    "```\n",
    "\n",
    "Python辞書からJSON文字列に変換\n",
    "```python\n",
    "json_str = ...\n",
    "print(json_str)\n",
    "```\n",
    "\n",
    "出力結果\n",
    "```json\n",
    "{\"id\": 101, \"name\": \"山田一郎\", \"scores\": [85, 92, 78]}\n",
    "```\n",
    "\n",
    "JSON文字列からPythonオブジェクトに変換\n",
    "```python\n",
    "student = ...\n",
    "\n",
    "# studentに含まれる各データ（id、name、scores）を確認\n",
    "print(...)\n",
    "```\n",
    "\n",
    "出力結果\n",
    "```markdown\n",
    "id: 101, name: 山田一郎, scores: [85, 92, 78]\n",
    "```\n"
   ]
  },
  {
   "cell_type": "code",
   "execution_count": null,
   "metadata": {},
   "outputs": [],
   "source": [
    "import json\n",
    "\n",
    "student = {\"id\": 101, \"name\": \"山田一郎\", \"scores\": [85, 92, 78]}"
   ]
  },
  {
   "cell_type": "code",
   "execution_count": null,
   "metadata": {},
   "outputs": [],
   "source": [
    "# JSON文字列に変換\n",
    "json_str = ...\n",
    "print(json_str)\n",
    "\n",
    "# 出力結果：\n",
    "# {\"id\": 101, \"name\": \"山田一郎\", \"scores\": [85, 92, 78]}"
   ]
  },
  {
   "cell_type": "code",
   "execution_count": null,
   "metadata": {},
   "outputs": [],
   "source": [
    "# JSON文字列からPythonオブジェクトを作成\n",
    "student = ...\n",
    "print(...)\n",
    "\n",
    "# 出力結果： \n",
    "# id: 101, name: 山田一郎, scores: [85, 92, 78]"
   ]
  },
  {
   "cell_type": "markdown",
   "metadata": {},
   "source": [
    "#### ネストしたデータ構造\n",
    "上記と同じことを、ネストしたデータ構造で表現してみましょう。\n",
    "\n",
    "```json\n",
    "data = {\n",
    "    \"class\": \"A組\",\n",
    "    \"students\": [\n",
    "        {\"name\": \"佐藤花子\", \"age\": 13},\n",
    "        {\"name\": \"高橋健太\", \"age\": 12},\n",
    "        {\"name\": \"小林優\", \"age\": 13},\n",
    "    ],\n",
    "}\n",
    "```\n",
    "\n",
    "- studentsからそれぞれの学生の名前と年齢を取り出してみましょう。\n",
    "- studentsから年齢が13歳の学生の名前を取り出してみましょう。\n"
   ]
  },
  {
   "cell_type": "code",
   "execution_count": null,
   "metadata": {},
   "outputs": [],
   "source": [
    "data = {\n",
    "    \"class\": \"A組\",\n",
    "    \"students\": [\n",
    "        {\"name\": \"佐藤花子\", \"age\": 13},\n",
    "        {\"name\": \"高橋健太\", \"age\": 12},\n",
    "        {\"name\": \"小林優\", \"age\": 13},\n",
    "    ],\n",
    "}\n",
    "\n",
    "# 辞書をJSON文字列に変換する\n",
    "json_str = ...\n",
    "print(json_str)\n",
    "\n",
    "# JSON文字列を辞書に変換する\n",
    "obj = ...\n",
    "\n",
    "# studentsからそれぞれの学生のクラス、名前と年齢を取り出してみましょう。\n",
    "# 出力例： 佐藤花子さんは13歳です。\n",
    "\n",
    "# studentsから年齢が13歳の学生の名前を取り出してみましょう。\n",
    "# 出力例： 佐藤花子さん、小林優さん"
   ]
  },
  {
   "cell_type": "code",
   "execution_count": null,
   "metadata": {},
   "outputs": [],
   "source": [
    "# 余裕がある人向け\n",
    "data = [\n",
    "    {\n",
    "        \"class\": \"A組\",\n",
    "        \"students\": [\n",
    "            {\"name\": \"佐藤花子\", \"age\": 13},\n",
    "            {\"name\": \"高橋健太\", \"age\": 12},\n",
    "            {\"name\": \"小林優\", \"age\": 13},\n",
    "        ],\n",
    "    },\n",
    "    {\n",
    "        \"class\": \"B組\",\n",
    "        \"students\": [\n",
    "            {\"name\": \"山田太郎\", \"age\": 13},\n",
    "            {\"name\": \"田中花子\", \"age\": 12},\n",
    "            {\"name\": \"鈴木健太\", \"age\": 13},\n",
    "        ],\n",
    "    },\n",
    "]\n",
    "\n",
    "# 辞書をJSON文字列に変換する\n",
    "json_str = ...\n",
    "print(json_str)\n",
    "\n",
    "# JSON文字列を辞書に変換する\n",
    "obj = ...\n",
    "\n",
    "# それぞれの学生のクラス、名前と年齢を取り出してみましょう。\n",
    "# 出力例： A組の佐藤花子さんは13歳です。（forループ）\n",
    "\n",
    "# 全クラスから年齢が13歳の学生の名前を取り出してみましょう。\n",
    "# 出力例：A組の佐藤花子さん、B組の山田太郎さん"
   ]
  },
  {
   "cell_type": "markdown",
   "metadata": {},
   "source": [
    "### JSONPlaceholderのユーザー情報APIにGETリクエストを送信"
   ]
  },
  {
   "cell_type": "code",
   "execution_count": 1,
   "metadata": {},
   "outputs": [
    {
     "name": "stdout",
     "output_type": "stream",
     "text": [
      "ステータスコード: 200\n",
      "取得したユーザー数: 10\n"
     ]
    }
   ],
   "source": [
    "import requests\n",
    "\n",
    "# JSONPlaceholderのユーザー情報APIにGETリクエストを送信\n",
    "response = requests.get('https://jsonplaceholder.typicode.com/users')\n",
    "\n",
    "# ステータスコードの確認\n",
    "print(f\"ステータスコード: {response.status_code}\")\n",
    "\n",
    "# レスポンスの内容（JSON形式）を表示\n",
    "users = response.json()\n",
    "print(f\"取得したユーザー数: {len(users)}\")"
   ]
  },
  {
   "cell_type": "markdown",
   "metadata": {},
   "source": [
    "#### 【練習問題】 最初のユーザー情報を表示\n",
    "以下のコードを編集して、最初のユーザー情報を表示してください。"
   ]
  },
  {
   "cell_type": "code",
   "execution_count": null,
   "metadata": {},
   "outputs": [
    {
     "name": "stdout",
     "output_type": "stream",
     "text": [
      "\n",
      "最初のユーザー情報:\n",
      "名前: Leanne Graham\n",
      "ユーザー名: Bret\n",
      "メール: Sincere@april.biz\n",
      "住所: Kulas Light, Gwenborough\n",
      "会社: Romaguera-Crona\n"
     ]
    }
   ],
   "source": [
    "import requests\n",
    "endpoint_url = \"https://jsonplaceholder.typicode.com/users\"\n",
    "\n",
    "first_user = ...\n",
    "print(\"\\n最初のユーザー情報:\")\n",
    "print(f\"名前: {first_user['name']}\")\n",
    "print(f\"ユーザー名: {first_user['username']}\")\n",
    "print(f\"メール: {first_user['email']}\")\n",
    "print(f\"住所: {first_user['address']['street']}, {first_user['address']['city']}\")\n",
    "print(f\"会社: {first_user['company']['name']}\")"
   ]
  },
  {
   "cell_type": "markdown",
   "metadata": {},
   "source": [
    "### 特定のユーザー情報を取得する"
   ]
  },
  {
   "cell_type": "code",
   "execution_count": null,
   "metadata": {},
   "outputs": [
    {
     "name": "stdout",
     "output_type": "stream",
     "text": [
      "ユーザーID 5 の情報:\n",
      "名前: Chelsey Dietrich\n",
      "メール: Lucio_Hettinger@annie.ca\n",
      "電話: (254)954-1289\n",
      "ウェブサイト: demarco.info\n"
     ]
    }
   ],
   "source": [
    "import requests\n",
    "\n",
    "# ユーザーID 5の情報だけを取得（5番目のユーザーを指名）\n",
    "user_id = 5\n",
    "response = requests.get(f\"https://jsonplaceholder.typicode.com/users/{user_id}\")\n",
    "\n",
    "# レスポンスの確認\n",
    "if response.status_code == 200:\n",
    "    user = response.json()\n",
    "    print(f\"ユーザーID {user_id} の情報:\")\n",
    "    print(f\"名前: {user['name']}\")\n",
    "    print(f\"メール: {user['email']}\")\n",
    "    print(f\"電話: {user['phone']}\")\n",
    "    print(f\"ウェブサイト: {user['website']}\")\n",
    "else:\n",
    "    print(f\"エラー: ステータスコード {response.status_code}\")"
   ]
  },
  {
   "cell_type": "markdown",
   "metadata": {},
   "source": [
    "#### 【練習問題】 同様に、ユーザーID 10の情報を取得してみましょう。"
   ]
  },
  {
   "cell_type": "code",
   "execution_count": null,
   "metadata": {},
   "outputs": [],
   "source": [
    "import requests\n",
    "\n",
    "# ユーザーID 10の情報だけを取得（10番目のユーザーを指名）\n",
    "endpoint_base_url = \"https://jsonplaceholder.typicode.com/users\"\n",
    "response = requests.get(endpoint_base_url)\n",
    "\n",
    "# レスポンスの確認\n",
    "if response.status_code == 200:\n",
    "    user = response.json()\n",
    "    print(f\"ユーザーID {user_id} の情報:\")\n",
    "    print(f\"名前: {user['name']}\")\n",
    "    print(f\"メール: {user['email']}\")\n",
    "    print(f\"電話: {user['phone']}\")\n",
    "    print(f\"ウェブサイト: {user['website']}\")\n",
    "else:\n",
    "    print(f\"エラー: ステータスコード {response.status_code}\")\n"
   ]
  },
  {
   "cell_type": "markdown",
   "metadata": {},
   "source": [
    "### 投稿データを取得する"
   ]
  },
  {
   "cell_type": "code",
   "execution_count": null,
   "metadata": {},
   "outputs": [
    {
     "name": "stdout",
     "output_type": "stream",
     "text": [
      "取得した投稿数: 3\n",
      "\n",
      "最初の投稿:\n",
      "タイトル: sunt aut facere repellat provident occaecati excepturi optio reprehenderit\n",
      "内容: quia et suscipit\n",
      "suscipit recusandae consequuntur expedita et cum\n",
      "reprehenderit molestiae ut ut quas totam\n",
      "nostrum rerum est autem sunt rem eveniet architecto\n",
      "投稿者ID: 1\n"
     ]
    }
   ],
   "source": [
    "import requests\n",
    "\n",
    "# 投稿データを取得（最初の10件）\n",
    "response = requests.get('https://jsonplaceholder.typicode.com/posts?_limit=3') # _limit=3 は最初の3件を取得するためのクエリパラメータ\n",
    "\n",
    "posts = response.json()\n",
    "print(f\"取得した投稿数: {len(posts)}\")\n",
    "\n",
    "# 最初の投稿を表示\n",
    "first_post = posts[0]\n",
    "print(\"\\n最初の投稿:\")\n",
    "print(f\"タイトル: {first_post['title']}\")\n",
    "print(f\"内容: {first_post['body']}\")\n",
    "print(f\"投稿者ID: {first_post['userId']}\")"
   ]
  },
  {
   "cell_type": "markdown",
   "metadata": {},
   "source": [
    "#### 【練習問題】投稿データを10件取得し、その中からuserIdが1のデータを抽出してください。"
   ]
  },
  {
   "cell_type": "code",
   "execution_count": null,
   "metadata": {},
   "outputs": [
    {
     "name": "stdout",
     "output_type": "stream",
     "text": [
      "取得した投稿数: 10\n"
     ]
    }
   ],
   "source": [
    "import requests\n",
    "\n",
    "endpoint_url = \"https://jsonplaceholder.typicode.com/posts\"\n",
    "# 投稿データを取得（最初の10件）\n",
    "response = requests.get(endpoint_url)\n",
    "\n",
    "posts = response.json()\n",
    "print(f\"取得した投稿数: {len(posts)}\")"
   ]
  },
  {
   "cell_type": "markdown",
   "metadata": {},
   "source": [
    "### POSTリクエスト（新しいデータの作成）"
   ]
  },
  {
   "cell_type": "code",
   "execution_count": 6,
   "metadata": {},
   "outputs": [
    {
     "name": "stdout",
     "output_type": "stream",
     "text": [
      "ステータスコード: 201\n"
     ]
    }
   ],
   "source": [
    "# 新しい投稿データを作成\n",
    "new_post = {\n",
    "    'title': '新しい投稿のタイトル',\n",
    "    'body': 'これは新しい投稿の本文です。',\n",
    "    'userId': 1\n",
    "}\n",
    "\n",
    "# POSTリクエストを送信\n",
    "response = requests.post(\n",
    "    'https://jsonplaceholder.typicode.com/posts',\n",
    "    json=new_post  # jsonパラメータを使うとPythonの辞書をJSONに変換してくれる\n",
    ")\n",
    "\n",
    "# レスポンスの確認\n",
    "print(f\"ステータスコード: {response.status_code}\")"
   ]
  },
  {
   "cell_type": "markdown",
   "metadata": {},
   "source": [
    "#### 作成された投稿データを表示"
   ]
  },
  {
   "cell_type": "code",
   "execution_count": null,
   "metadata": {},
   "outputs": [
    {
     "name": "stdout",
     "output_type": "stream",
     "text": [
      "\n",
      "作成された投稿:\n",
      "ID: 101\n",
      "タイトル: 新しい投稿のタイトル\n",
      "内容: これは新しい投稿の本文です。\n",
      "投稿者ID: 1\n"
     ]
    }
   ],
   "source": [
    "created_post = response.json()\n",
    "print(\"\\n作成された投稿:\")\n",
    "print(f\"ID: {created_post['id']}\")\n",
    "print(f\"タイトル: {created_post['title']}\")\n",
    "print(f\"内容: {created_post['body']}\")\n",
    "print(f\"投稿者ID: {created_post['userId']}\")"
   ]
  },
  {
   "cell_type": "markdown",
   "metadata": {},
   "source": [
    "### エラーハンドリング "
   ]
  },
  {
   "cell_type": "code",
   "execution_count": 3,
   "metadata": {},
   "outputs": [
    {
     "name": "stdout",
     "output_type": "stream",
     "text": [
      "HTTPエラー: 404 Client Error: Not Found for url: https://jsonplaceholder.typicode.com/invalid_endpoint\n",
      "ステータスコード: 404\n",
      "リソースが見つかりませんでした。URLを確認してください。\n"
     ]
    }
   ],
   "source": [
    "import requests\n",
    "\n",
    "try:\n",
    "    # 存在しないエンドポイントにアクセス（存在しないお店にお願いするようなもの）\n",
    "    response = requests.get(\n",
    "        \"https://jsonplaceholder.typicode.com/invalid_endpoint\",\n",
    "        timeout=5,  # タイムアウトを5秒に設定（5秒待ってもレスポンスがなければあきらめる）\n",
    "    )\n",
    "\n",
    "    # ステータスコードのチェック\n",
    "    response.raise_for_status()  # 4xx/5xxエラーの場合、例外を発生させる\n",
    "\n",
    "    # 正常なレスポンスの処理\n",
    "    data = response.json()\n",
    "    print(\"データの取得に成功しました。\")\n",
    "\n",
    "except requests.exceptions.HTTPError as err:\n",
    "    # HTTPエラー（4xx/5xxステータスコード）\n",
    "    print(f\"HTTPエラー: {err}\")\n",
    "    print(f\"ステータスコード: {response.status_code}\")\n",
    "\n",
    "    # エラーコードに応じた処理\n",
    "    if response.status_code == 404:\n",
    "        print(\"リソースが見つかりませんでした。URLを確認してください。\")\n",
    "    elif response.status_code == 401:\n",
    "        print(\"認証が必要です。APIキーや認証情報を確認してください。\")\n",
    "    elif response.status_code == 429:\n",
    "        print(\"リクエスト制限を超えました。しばらく待ってからリトライしてください。\")\n",
    "\n",
    "except requests.exceptions.ConnectionError as err:\n",
    "    # 接続エラー（サーバーに接続できない）\n",
    "    print(f\"接続エラー: {err}\")\n",
    "    print(\"サーバーに接続できませんでした。以下を確認してください：\")\n",
    "    print(\"- インターネット接続が正常か\")\n",
    "    print(\"- サーバーのURLが正しいか\")\n",
    "    print(\"- サーバーが稼働しているか\")\n",
    "\n",
    "except requests.exceptions.Timeout as err:\n",
    "    # タイムアウトエラー\n",
    "    print(f\"タイムアウト: {err}\")\n",
    "    print(\"リクエストがタイムアウトしました。以下を試してください：\")\n",
    "    print(\"- タイムアウト時間を長くする\")\n",
    "    print(\"- ネットワーク接続を確認する\")\n",
    "    print(\"- サーバーの負荷状況を確認する\")\n",
    "\n",
    "except requests.exceptions.RequestException as err:\n",
    "    # その他のrequests関連エラー（上記以外の全てのrequestsエラーのベースクラス）\n",
    "    print(f\"リクエストエラー: {err}\")\n",
    "    print(\"APIリクエスト中に予期しないエラーが発生しました。\")\n",
    "\n",
    "except ValueError as err:\n",
    "    # JSONデコードエラー\n",
    "    print(f\"JSONエラー: {err}\")\n",
    "    print(\"レスポンスをJSONとして解析できませんでした。レスポンスの内容を確認します：\")\n",
    "    print(response.text[:200])  # レスポンスの先頭部分を表示\n",
    "\n",
    "except Exception as err:\n",
    "    # その他の予期しないエラー\n",
    "    print(f\"予期しないエラー: {err}\")\n"
   ]
  },
  {
   "cell_type": "markdown",
   "metadata": {},
   "source": [
    "#### 【練習問題】エラーハンドリングを行い、404 Not Foundエラーが発生した場合は「Error: 404 Not Found...🥺」と表示するようにしてください。"
   ]
  },
  {
   "cell_type": "code",
   "execution_count": 35,
   "metadata": {},
   "outputs": [
    {
     "ename": "HTTPError",
     "evalue": "404 Client Error: Not Found for url: https://jsonplaceholder.typicode.com/users/-5",
     "output_type": "error",
     "traceback": [
      "\u001b[31m---------------------------------------------------------------------------\u001b[39m",
      "\u001b[31mHTTPError\u001b[39m                                 Traceback (most recent call last)",
      "\u001b[36mCell\u001b[39m\u001b[36m \u001b[39m\u001b[32mIn[35]\u001b[39m\u001b[32m, line 8\u001b[39m\n\u001b[32m      5\u001b[39m     \u001b[38;5;28mprint\u001b[39m(\u001b[33m\"\u001b[39m\u001b[33mユーザー情報を取得しました。\u001b[39m\u001b[33m\"\u001b[39m)\n\u001b[32m      7\u001b[39m \u001b[38;5;28;01mexcept\u001b[39;00m requests.exceptions.HTTPError \u001b[38;5;28;01mas\u001b[39;00m e:\n\u001b[32m----> \u001b[39m\u001b[32m8\u001b[39m     \u001b[38;5;28;01mraise\u001b[39;00m e\n",
      "\u001b[36mCell\u001b[39m\u001b[36m \u001b[39m\u001b[32mIn[35]\u001b[39m\u001b[32m, line 4\u001b[39m\n\u001b[32m      2\u001b[39m \u001b[38;5;28;01mtry\u001b[39;00m:\n\u001b[32m      3\u001b[39m     response = requests.get(\u001b[33mf\u001b[39m\u001b[33m'\u001b[39m\u001b[33mhttps://jsonplaceholder.typicode.com/users/\u001b[39m\u001b[38;5;132;01m{\u001b[39;00minvalid_user_id\u001b[38;5;132;01m}\u001b[39;00m\u001b[33m'\u001b[39m)\n\u001b[32m----> \u001b[39m\u001b[32m4\u001b[39m     \u001b[43mresponse\u001b[49m\u001b[43m.\u001b[49m\u001b[43mraise_for_status\u001b[49m\u001b[43m(\u001b[49m\u001b[43m)\u001b[49m\n\u001b[32m      5\u001b[39m     \u001b[38;5;28mprint\u001b[39m(\u001b[33m\"\u001b[39m\u001b[33mユーザー情報を取得しました。\u001b[39m\u001b[33m\"\u001b[39m)\n\u001b[32m      7\u001b[39m \u001b[38;5;28;01mexcept\u001b[39;00m requests.exceptions.HTTPError \u001b[38;5;28;01mas\u001b[39;00m e:\n",
      "\u001b[36mFile \u001b[39m\u001b[32m~/documents/shiny-seminars/GenerativeAIDevelopmentSeminarDocumentation/section03-basic-gemini-api/.venv/lib/python3.11/site-packages/requests/models.py:1024\u001b[39m, in \u001b[36mResponse.raise_for_status\u001b[39m\u001b[34m(self)\u001b[39m\n\u001b[32m   1019\u001b[39m     http_error_msg = (\n\u001b[32m   1020\u001b[39m         \u001b[33mf\u001b[39m\u001b[33m\"\u001b[39m\u001b[38;5;132;01m{\u001b[39;00m\u001b[38;5;28mself\u001b[39m.status_code\u001b[38;5;132;01m}\u001b[39;00m\u001b[33m Server Error: \u001b[39m\u001b[38;5;132;01m{\u001b[39;00mreason\u001b[38;5;132;01m}\u001b[39;00m\u001b[33m for url: \u001b[39m\u001b[38;5;132;01m{\u001b[39;00m\u001b[38;5;28mself\u001b[39m.url\u001b[38;5;132;01m}\u001b[39;00m\u001b[33m\"\u001b[39m\n\u001b[32m   1021\u001b[39m     )\n\u001b[32m   1023\u001b[39m \u001b[38;5;28;01mif\u001b[39;00m http_error_msg:\n\u001b[32m-> \u001b[39m\u001b[32m1024\u001b[39m     \u001b[38;5;28;01mraise\u001b[39;00m HTTPError(http_error_msg, response=\u001b[38;5;28mself\u001b[39m)\n",
      "\u001b[31mHTTPError\u001b[39m: 404 Client Error: Not Found for url: https://jsonplaceholder.typicode.com/users/-5"
     ]
    }
   ],
   "source": [
    "\n",
    "invalid_user_id = -5\n",
    "try:\n",
    "    response = requests.get(f'https://jsonplaceholder.typicode.com/users/{invalid_user_id}')\n",
    "    response.raise_for_status()\n",
    "    print(\"ユーザー情報を取得しました。\")\n",
    "\n",
    "except requests.exceptions.HTTPError as e:\n",
    "    raise e\n"
   ]
  },
  {
   "cell_type": "markdown",
   "metadata": {},
   "source": [
    "### 実践的なアプリケーション例（穴埋め問題）"
   ]
  },
  {
   "cell_type": "code",
   "execution_count": null,
   "metadata": {},
   "outputs": [],
   "source": [
    "import requests\n",
    "\n",
    "def get_user(user_id):\n",
    "    \"\"\"指定されたIDのユーザー情報を取得する\"\"\"\n",
    "    # TODO: user_idを使って、JSONPlaceholderからユーザー情報を取得するGETリクエストを実装する\n",
    "    # ヒント: エンドポイントは 'https://jsonplaceholder.typicode.com/users/{user_id}' 形式\n",
    "\n",
    "    # TODO: ステータスコードが200の場合、JSONレスポンスを返す。それ以外はNoneを返す\n",
    "\n",
    "def get_posts_by_user(user_id):\n",
    "    \"\"\"指定されたユーザーIDの投稿を取得する\"\"\"\n",
    "    # TODO: クエリパラメータを使って、特定ユーザーの投稿を取得する\n",
    "    # ヒント: paramsに適切なキーと値のペアを設定する\n",
    "\n",
    "    # TODO: GETリクエストを送信し、ステータスコードが200の場合はJSONレスポンスを返す\n",
    "    # それ以外の場合は空のリストを返す\n",
    "\n",
    "def display_user_with_posts(user_id):\n",
    "    \"\"\"ユーザー情報とその投稿を表示する\"\"\"\n",
    "    # ユーザー情報の取得\n",
    "    # TODO: get_user関数を呼び出してユーザー情報を取得する\n",
    "\n",
    "    # TODO: ユーザーが見つからない場合のエラーメッセージを表示して関数を終了する\n",
    "\n",
    "    # ユーザー情報の表示\n",
    "    print(f\"\\n===== ユーザー情報 =====\")\n",
    "    print(f\"名前: {user['name']}\")\n",
    "    print(f\"ユーザー名: {user['username']}\")\n",
    "    print(f\"メール: {user['email']}\")\n",
    "    print(f\"会社: {user['company']['name']}\")\n",
    "\n",
    "    # ユーザーの投稿を取得して表示\n",
    "    # TODO: get_posts_by_user関数を呼び出してユーザーの投稿を取得する\n",
    "\n",
    "    print(f\"\\n===== {user['name']} の投稿 ({len(posts)}件) =====\")\n",
    "\n",
    "    for i, post in enumerate(posts, 1):\n",
    "        print(f\"\\n投稿 {i}:\")\n",
    "        print(f\"タイトル: {post['title']}\")\n",
    "        print(f\"本文: {post['body'][:100]}...\" if len(post['body']) > 100 else post['body'])\n",
    "        print(\"-\" * 50)\n",
    "\n",
    "# メイン処理\n",
    "display_user_with_posts(3)"
   ]
  },
  {
   "cell_type": "markdown",
   "metadata": {},
   "source": [
    "### Pydanticモデルでデータをスマートに扱おう！\n"
   ]
  },
  {
   "cell_type": "code",
   "execution_count": null,
   "metadata": {
    "vscode": {
     "languageId": "shellscript"
    }
   },
   "outputs": [],
   "source": [
    "!pip install pydantic"
   ]
  },
  {
   "cell_type": "code",
   "execution_count": 6,
   "metadata": {},
   "outputs": [
    {
     "data": {
      "text/plain": [
       "User(id=1, name='Leanne Graham', username='Bret', email='Sincere@april.biz', address=Address(street='Kulas Light', suite='Apt. 556', city='Gwenborough', zipcode='92998-3874', geo=Geo(lat='-37.3159', lng='81.1496')), phone='1-770-736-8031 x56442', website='hildegard.org', company=Company(name='Romaguera-Crona', catchPhrase='Multi-layered client-server neural-net', bs='harness real-time e-markets'))"
      ]
     },
     "execution_count": 6,
     "metadata": {},
     "output_type": "execute_result"
    }
   ],
   "source": [
    "from pydantic import BaseModel\n",
    "from typing import List, Optional\n",
    "\n",
    "\n",
    "# 住所のモデル（ネストされたデータ）\n",
    "class Geo(BaseModel):\n",
    "    lat: str\n",
    "    lng: str\n",
    "\n",
    "\n",
    "class Address(BaseModel):\n",
    "    street: str\n",
    "    suite: str\n",
    "    city: str\n",
    "    zipcode: str\n",
    "    geo: Geo\n",
    "\n",
    "\n",
    "# 会社のモデル\n",
    "class Company(BaseModel):\n",
    "    name: str\n",
    "    catchPhrase: str\n",
    "    bs: str\n",
    "\n",
    "\n",
    "# ユーザーのモデル\n",
    "class User(BaseModel):\n",
    "    id: int\n",
    "    name: str\n",
    "    username: str\n",
    "    email: str\n",
    "    address: Address\n",
    "    phone: str\n",
    "    website: str\n",
    "    company: Company\n",
    "\n",
    "user = User(\n",
    "    id=1,\n",
    "    name=\"Leanne Graham\",\n",
    "    username=\"Bret\",\n",
    "    email=\"Sincere@april.biz\",\n",
    "    address=Address(\n",
    "        street=\"Kulas Light\",\n",
    "        suite=\"Apt. 556\",\n",
    "        city=\"Gwenborough\",\n",
    "        zipcode=\"92998-3874\",\n",
    "        geo=Geo(lat=\"-37.3159\", lng=\"81.1496\")\n",
    "    ),\n",
    "    phone=\"1-770-736-8031 x56442\",\n",
    "    website=\"hildegard.org\",\n",
    "    company=Company(\n",
    "        name=\"Romaguera-Crona\",\n",
    "        catchPhrase=\"Multi-layered client-server neural-net\",\n",
    "        bs=\"harness real-time e-markets\"\n",
    "    )\n",
    ")\n",
    "user"
   ]
  },
  {
   "cell_type": "code",
   "execution_count": null,
   "metadata": {},
   "outputs": [],
   "source": []
  }
 ],
 "metadata": {
  "kernelspec": {
   "display_name": ".venv",
   "language": "python",
   "name": "python3"
  },
  "language_info": {
   "codemirror_mode": {
    "name": "ipython",
    "version": 3
   },
   "file_extension": ".py",
   "mimetype": "text/x-python",
   "name": "python",
   "nbconvert_exporter": "python",
   "pygments_lexer": "ipython3",
   "version": "3.11.2"
  }
 },
 "nbformat": 4,
 "nbformat_minor": 2
}
