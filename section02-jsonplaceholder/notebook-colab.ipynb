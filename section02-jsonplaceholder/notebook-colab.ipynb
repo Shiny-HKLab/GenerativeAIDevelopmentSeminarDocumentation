{
 "cells": [
  {
   "cell_type": "markdown",
   "metadata": {},
   "source": [
    "## JSONPlaceholder API"
   ]
  },
  {
   "cell_type": "markdown",
   "metadata": {},
   "source": [
    "### requestsライブラリのインストール"
   ]
  },
  {
   "cell_type": "code",
   "execution_count": null,
   "metadata": {
    "vscode": {
     "languageId": "shellscript"
    }
   },
   "outputs": [],
   "source": [
    "!pip install requests"
   ]
  },
  {
   "cell_type": "markdown",
   "metadata": {},
   "source": [
    "### JSONPlaceholderのユーザー情報APIにGETリクエストを送信"
   ]
  },
  {
   "cell_type": "code",
   "execution_count": 1,
   "metadata": {},
   "outputs": [
    {
     "name": "stdout",
     "output_type": "stream",
     "text": [
      "ステータスコード: 200\n",
      "取得したユーザー数: 10\n"
     ]
    }
   ],
   "source": [
    "import requests\n",
    "\n",
    "# JSONPlaceholderのユーザー情報APIにGETリクエストを送信\n",
    "response = requests.get('https://jsonplaceholder.typicode.com/users')\n",
    "\n",
    "# ステータスコードの確認\n",
    "print(f\"ステータスコード: {response.status_code}\")\n",
    "\n",
    "# レスポンスの内容（JSON形式）を表示\n",
    "users = response.json()\n",
    "print(f\"取得したユーザー数: {len(users)}\")"
   ]
  },
  {
   "cell_type": "markdown",
   "metadata": {},
   "source": [
    "#### 最初のユーザー情報を表示"
   ]
  },
  {
   "cell_type": "code",
   "execution_count": null,
   "metadata": {},
   "outputs": [
    {
     "name": "stdout",
     "output_type": "stream",
     "text": [
      "\n",
      "最初のユーザー情報:\n",
      "名前: Leanne Graham\n",
      "ユーザー名: Bret\n",
      "メール: Sincere@april.biz\n",
      "住所: Kulas Light, Gwenborough\n",
      "会社: Romaguera-Crona\n"
     ]
    }
   ],
   "source": [
    "first_user = users[0]\n",
    "print(\"\\n最初のユーザー情報:\")\n",
    "print(f\"名前: {first_user['name']}\")\n",
    "print(f\"ユーザー名: {first_user['username']}\")\n",
    "print(f\"メール: {first_user['email']}\")\n",
    "print(f\"住所: {first_user['address']['street']}, {first_user['address']['city']}\")\n",
    "print(f\"会社: {first_user['company']['name']}\")"
   ]
  },
  {
   "cell_type": "markdown",
   "metadata": {},
   "source": [
    "### POSTリクエスト（新しいデータの作成）"
   ]
  },
  {
   "cell_type": "code",
   "execution_count": 6,
   "metadata": {},
   "outputs": [
    {
     "name": "stdout",
     "output_type": "stream",
     "text": [
      "ステータスコード: 201\n"
     ]
    }
   ],
   "source": [
    "# 新しい投稿データを作成\n",
    "new_post = {\n",
    "    'title': '新しい投稿のタイトル',\n",
    "    'body': 'これは新しい投稿の本文です。',\n",
    "    'userId': 1\n",
    "}\n",
    "\n",
    "# POSTリクエストを送信\n",
    "response = requests.post(\n",
    "    'https://jsonplaceholder.typicode.com/posts',\n",
    "    json=new_post  # jsonパラメータを使うとPythonの辞書をJSONに変換してくれる\n",
    ")\n",
    "\n",
    "# レスポンスの確認\n",
    "print(f\"ステータスコード: {response.status_code}\")"
   ]
  },
  {
   "cell_type": "markdown",
   "metadata": {},
   "source": [
    "#### 作成された投稿データを表示"
   ]
  },
  {
   "cell_type": "code",
   "execution_count": null,
   "metadata": {},
   "outputs": [
    {
     "name": "stdout",
     "output_type": "stream",
     "text": [
      "\n",
      "作成された投稿:\n",
      "ID: 101\n",
      "タイトル: 新しい投稿のタイトル\n",
      "内容: これは新しい投稿の本文です。\n",
      "投稿者ID: 1\n"
     ]
    }
   ],
   "source": [
    "created_post = response.json()\n",
    "print(\"\\n作成された投稿:\")\n",
    "print(f\"ID: {created_post['id']}\")\n",
    "print(f\"タイトル: {created_post['title']}\")\n",
    "print(f\"内容: {created_post['body']}\")\n",
    "print(f\"投稿者ID: {created_post['userId']}\")"
   ]
  },
  {
   "cell_type": "markdown",
   "metadata": {},
   "source": [
    "### エラーハンドリング "
   ]
  },
  {
   "cell_type": "code",
   "execution_count": 13,
   "metadata": {},
   "outputs": [
    {
     "ename": "Exception",
     "evalue": "リクエスト時にエラーが発生しました。 404 Client Error: Not Found for url: https://jsonplaceholder.typicode.com/invalid_endpoint",
     "output_type": "error",
     "traceback": [
      "\u001b[31m---------------------------------------------------------------------------\u001b[39m",
      "\u001b[31mHTTPError\u001b[39m                                 Traceback (most recent call last)",
      "\u001b[36mCell\u001b[39m\u001b[36m \u001b[39m\u001b[32mIn[13]\u001b[39m\u001b[32m, line 4\u001b[39m\n\u001b[32m      3\u001b[39m     response = requests.get(invalid_url)\n\u001b[32m----> \u001b[39m\u001b[32m4\u001b[39m     \u001b[43mresponse\u001b[49m\u001b[43m.\u001b[49m\u001b[43mraise_for_status\u001b[49m\u001b[43m(\u001b[49m\u001b[43m)\u001b[49m\n\u001b[32m      6\u001b[39m \u001b[38;5;28;01mexcept\u001b[39;00m \u001b[38;5;167;01mException\u001b[39;00m \u001b[38;5;28;01mas\u001b[39;00m e:\n",
      "\u001b[36mFile \u001b[39m\u001b[32m~/documents/shiny-seminars/GenerativeAIDevelopmentSeminarDocumentation/section02-jsonplaceholder/.venv/lib/python3.11/site-packages/requests/models.py:1024\u001b[39m, in \u001b[36mResponse.raise_for_status\u001b[39m\u001b[34m(self)\u001b[39m\n\u001b[32m   1023\u001b[39m \u001b[38;5;28;01mif\u001b[39;00m http_error_msg:\n\u001b[32m-> \u001b[39m\u001b[32m1024\u001b[39m     \u001b[38;5;28;01mraise\u001b[39;00m HTTPError(http_error_msg, response=\u001b[38;5;28mself\u001b[39m)\n",
      "\u001b[31mHTTPError\u001b[39m: 404 Client Error: Not Found for url: https://jsonplaceholder.typicode.com/invalid_endpoint",
      "\nDuring handling of the above exception, another exception occurred:\n",
      "\u001b[31mException\u001b[39m                                 Traceback (most recent call last)",
      "\u001b[36mCell\u001b[39m\u001b[36m \u001b[39m\u001b[32mIn[13]\u001b[39m\u001b[32m, line 8\u001b[39m\n\u001b[32m      6\u001b[39m \u001b[38;5;28;01mexcept\u001b[39;00m \u001b[38;5;167;01mException\u001b[39;00m \u001b[38;5;28;01mas\u001b[39;00m e:\n\u001b[32m      7\u001b[39m     err_msg = \u001b[33m\"\u001b[39m\u001b[33mリクエスト時にエラーが発生しました。\u001b[39m\u001b[33m\"\u001b[39m\n\u001b[32m----> \u001b[39m\u001b[32m8\u001b[39m     \u001b[38;5;28;01mraise\u001b[39;00m \u001b[38;5;167;01mException\u001b[39;00m(\u001b[33mf\u001b[39m\u001b[33m\"\u001b[39m\u001b[38;5;132;01m{\u001b[39;00merr_msg\u001b[38;5;132;01m}\u001b[39;00m\u001b[33m \u001b[39m\u001b[38;5;132;01m{\u001b[39;00me\u001b[38;5;132;01m}\u001b[39;00m\u001b[33m\"\u001b[39m)\n",
      "\u001b[31mException\u001b[39m: リクエスト時にエラーが発生しました。 404 Client Error: Not Found for url: https://jsonplaceholder.typicode.com/invalid_endpoint"
     ]
    }
   ],
   "source": [
    "try:\n",
    "    invalid_url = \"https://jsonplaceholder.typicode.com/invalid_endpoint\"\n",
    "    response = requests.get(invalid_url)\n",
    "    response.raise_for_status()\n",
    "\n",
    "except Exception as e:\n",
    "    err_msg = \"リクエスト時にエラーが発生しました。\"\n",
    "    raise Exception(f\"{err_msg} {e}\")"
   ]
  },
  {
   "cell_type": "code",
   "execution_count": 21,
   "metadata": {},
   "outputs": [
    {
     "name": "stdout",
     "output_type": "stream",
     "text": [
      "HTTPエラーが発生しました。\n"
     ]
    }
   ],
   "source": [
    "\n",
    "user_id = -5\n",
    "try:\n",
    "    response = requests.get(f'https://jsonplaceholder.typicode.com/users/{user_id}')\n",
    "    response.raise_for_status()\n",
    "    print(\"ユーザー情報を取得しました。\")\n",
    "\n",
    "except requests.exceptions.HTTPError as e:\n",
    "    print(\"HTTPエラーが発生しました。\")\n",
    "except Exception as e:\n",
    "    print(\"その他のエラーが発生しました。\")\n",
    "\n"
   ]
  },
  {
   "cell_type": "markdown",
   "metadata": {},
   "source": [
    "### 実践的なアプリケーション例（穴埋め問題）"
   ]
  },
  {
   "cell_type": "code",
   "execution_count": null,
   "metadata": {},
   "outputs": [],
   "source": [
    "import requests\n",
    "\n",
    "def get_user(user_id):\n",
    "    \"\"\"指定されたIDのユーザー情報を取得する\"\"\"\n",
    "    # TODO: user_idを使って、JSONPlaceholderからユーザー情報を取得するGETリクエストを実装する\n",
    "    # ヒント: エンドポイントは 'https://jsonplaceholder.typicode.com/users/{user_id}' 形式\n",
    "\n",
    "    # TODO: ステータスコードが200の場合、JSONレスポンスを返す。それ以外はNoneを返す\n",
    "\n",
    "def get_posts_by_user(user_id):\n",
    "    \"\"\"指定されたユーザーIDの投稿を取得する\"\"\"\n",
    "    # TODO: クエリパラメータを使って、特定ユーザーの投稿を取得する\n",
    "    # ヒント: paramsに適切なキーと値のペアを設定する\n",
    "\n",
    "    # TODO: GETリクエストを送信し、ステータスコードが200の場合はJSONレスポンスを返す\n",
    "    # それ以外の場合は空のリストを返す\n",
    "\n",
    "def display_user_with_posts(user_id):\n",
    "    \"\"\"ユーザー情報とその投稿を表示する\"\"\"\n",
    "    # ユーザー情報の取得\n",
    "    # TODO: get_user関数を呼び出してユーザー情報を取得する\n",
    "\n",
    "    # TODO: ユーザーが見つからない場合のエラーメッセージを表示して関数を終了する\n",
    "\n",
    "    # ユーザー情報の表示\n",
    "    print(f\"\\n===== ユーザー情報 =====\")\n",
    "    print(f\"名前: {user['name']}\")\n",
    "    print(f\"ユーザー名: {user['username']}\")\n",
    "    print(f\"メール: {user['email']}\")\n",
    "    print(f\"会社: {user['company']['name']}\")\n",
    "\n",
    "    # ユーザーの投稿を取得して表示\n",
    "    # TODO: get_posts_by_user関数を呼び出してユーザーの投稿を取得する\n",
    "\n",
    "    print(f\"\\n===== {user['name']} の投稿 ({len(posts)}件) =====\")\n",
    "\n",
    "    for i, post in enumerate(posts, 1):\n",
    "        print(f\"\\n投稿 {i}:\")\n",
    "        print(f\"タイトル: {post['title']}\")\n",
    "        print(f\"本文: {post['body'][:100]}...\" if len(post['body']) > 100 else post['body'])\n",
    "        print(\"-\" * 50)\n",
    "\n",
    "# メイン処理\n",
    "if __name__ == \"__main__\":\n",
    "    # ユーザーID 3の情報と投稿を表示\n",
    "    display_user_with_posts(3)"
   ]
  }
 ],
 "metadata": {
  "kernelspec": {
   "display_name": "bin",
   "language": "python",
   "name": "python3"
  },
  "language_info": {
   "codemirror_mode": {
    "name": "ipython",
    "version": 3
   },
   "file_extension": ".py",
   "mimetype": "text/x-python",
   "name": "python",
   "nbconvert_exporter": "python",
   "pygments_lexer": "ipython3",
   "version": "3.11.0"
  }
 },
 "nbformat": 4,
 "nbformat_minor": 2
}
