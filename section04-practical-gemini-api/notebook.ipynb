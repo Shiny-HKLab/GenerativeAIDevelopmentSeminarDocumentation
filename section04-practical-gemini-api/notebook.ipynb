{
 "cells": [
  {
   "cell_type": "code",
   "execution_count": null,
   "id": "ee8b3f67",
   "metadata": {},
   "outputs": [],
   "source": [
    "!git clone https://github.com/Shiny-HKLab/GenerativeAIDevelopmentSeminarDocumentation.git\n",
    "%cd GenerativeAIDevelopmentSeminarDocumentation/section04-practical-gemini-api\n",
    "!ls images"
   ]
  },
  {
   "cell_type": "code",
   "execution_count": 14,
   "id": "97b0b1ca",
   "metadata": {},
   "outputs": [],
   "source": [
    "import os\n",
    "\n",
    "from dotenv import load_dotenv\n",
    "\n",
    "load_dotenv()\n",
    "GOOGLE_API_KEY = os.getenv(\"GOOGLE_API_KEY\")\n",
    "model_id = \"gemini-2.0-flash\"\n",
    "assert GOOGLE_API_KEY is not None"
   ]
  },
  {
   "cell_type": "markdown",
   "id": "6193894b",
   "metadata": {},
   "source": [
    "### 環境変数の設定（Google Colabの場合）\n",
    "\n",
    "1. Google ColabのシークレットタブからGoogle APIキーの「Google AI Studioでキーを管理」という項目をクリックしてGemini APIキーの管理画面に移動します\n",
    "2. 管理画面から「APIキーの作成」を行い、APIキーを追加します\n",
    "3. Google Colabに戻り、シークレットタブからGoogle APIキーの「Google AI Studioからキーをインポート」をクリックして先ほど追加したAPIキーを選択します\n",
    "4. シークレットタブに「GOOGLE_API_KEY」という名前が追加されているのを確認したら以下のセルを実行し、エラーが発生しないことを確認してください"
   ]
  },
  {
   "cell_type": "code",
   "execution_count": null,
   "id": "e581355f",
   "metadata": {},
   "outputs": [],
   "source": [
    "from google.colab import userdata\n",
    "\n",
    "GOOGLE_API_KEY = userdata.get(\"GOOGLE_API_KEY\")\n",
    "assert GOOGLE_API_KEY is not None"
   ]
  },
  {
   "cell_type": "markdown",
   "id": "3c164ab8",
   "metadata": {},
   "source": [
    "#### 【復習】　チャット機能で会話の文脈を管理する\n",
    "ユーザーから入力を受け取り、英語だった場合は日本語で回答し、日本語だったら英語で回答する"
   ]
  },
  {
   "cell_type": "code",
   "execution_count": 2,
   "id": "003ccd90",
   "metadata": {},
   "outputs": [],
   "source": [
    "from google import genai\n",
    "from google.genai import types\n",
    "\n",
    "system_message = \"\"\"\n",
    "# あなたの役割\n",
    "あなたは、ユーザーの入力言語を判断し、指定された反対の言語で回答する優秀なアシスタントです。\n",
    "\n",
    "## 行動ルール\n",
    "- ユーザーからの入力を受け取ったら、まずその言語が「日本語」か「英語」かを判断してください。\n",
    "- 入力が日本語の場合： 回答のすべてを英語で生成してください。\n",
    "- 入力が英語の場合： 回答のすべてを日本語で生成してください。\n",
    "\"\"\"\n",
    "model_id = \"gemini-2.0-flash\"\n",
    "\n",
    "client = genai.Client(api_key=GOOGLE_API_KEY)\n",
    "chat = client.chats.create(\n",
    "    model=model_id,\n",
    "    config=types.GenerateContentConfig(\n",
    "        temperature=1.0,\n",
    "        system_instruction=system_message,\n",
    "    )\n",
    ")"
   ]
  },
  {
   "cell_type": "code",
   "execution_count": 3,
   "id": "54ed191e",
   "metadata": {},
   "outputs": [
    {
     "name": "stdout",
     "output_type": "stream",
     "text": [
      "私の名前は竹内です。\n",
      "\n"
     ]
    }
   ],
   "source": [
    "first_prompt = \"My name is Takeuchi.\"\n",
    "first_response = chat.send_message(\n",
    "    message=types.Part.from_text(text=first_prompt)\n",
    ")\n",
    "print(first_response.text)"
   ]
  },
  {
   "cell_type": "code",
   "execution_count": 28,
   "id": "3ba4938e",
   "metadata": {},
   "outputs": [
    {
     "data": {
      "text/plain": [
       "[UserContent(parts=[Part(video_metadata=None, thought=None, code_execution_result=None, executable_code=None, file_data=None, function_call=None, function_response=None, inline_data=None, text='My name is Takeuchi.')], role='user'),\n",
       " Content(parts=[Part(video_metadata=None, thought=None, code_execution_result=None, executable_code=None, file_data=None, function_call=None, function_response=None, inline_data=None, text='竹内です。初めまして。お会いできて嬉しいです。何かお手伝いできることはありますか？\\n')], role='model')]"
      ]
     },
     "execution_count": 28,
     "metadata": {},
     "output_type": "execute_result"
    }
   ],
   "source": [
    "chat.get_history()"
   ]
  },
  {
   "cell_type": "code",
   "execution_count": null,
   "id": "028e517c",
   "metadata": {},
   "outputs": [
    {
     "name": "stdout",
     "output_type": "stream",
     "text": [
      "Yes, I remember your name. It's Takeuchi. How can I assist you today?\n"
     ]
    }
   ],
   "source": [
    "for chunk in chat.send_message_stream(\n",
    "    message=types.Part.from_text(text=\"私の名前を覚えていますか？\")\n",
    "):\n",
    "    print(chunk.text, end=\"\", flush=True)"
   ]
  },
  {
   "cell_type": "markdown",
   "id": "c1fab452",
   "metadata": {},
   "source": [
    "### 画像についてAIで説明してもらう\n",
    "Geminiは画像の内容も理解できるため、写真やイラストについてAIに説明してもらうことが可能です。（※マルチモーダル対応）\n",
    "\n",
    "※マルチモーダルとは **AIが、人間のように複数の種類の情報を同時に理解し、処理できる能力** のことです。\n",
    "例：テキスト（ユーザーの質問）＋画像"
   ]
  },
  {
   "cell_type": "markdown",
   "id": "4d958a84",
   "metadata": {},
   "source": [
    "#### AIに入力として渡す画像のセットアップ"
   ]
  },
  {
   "cell_type": "code",
   "execution_count": null,
   "id": "3f8976b5",
   "metadata": {},
   "outputs": [],
   "source": [
    "import os\n",
    "\n",
    "from IPython.display import Image, display\n",
    "\n",
    "image_a_path = \"images/luca-bravo-9l_326FISzk-unsplash.jpg\"\n",
    "\n",
    "if not os.path.exists(image_a_path):\n",
    "    raise FileNotFoundError(f\"Image file not found: {image_a_path}\")\n",
    "\n",
    "with open(image_a_path, \"rb\") as image_file:\n",
    "    image_a = image_file.read()\n",
    "\n",
    "def get_image_mime_type(image_path):\n",
    "    \"\"\"Get the MIME type of an image file.\"\"\"\n",
    "    if image_path.lower().endswith(\".jpg\") or image_path.lower().endswith(\".jpeg\"):\n",
    "        return \"image/jpeg\"\n",
    "    elif image_path.lower().endswith(\".png\"):\n",
    "        return \"image/png\"\n",
    "    elif image_path.lower().endswith(\".gif\"):\n",
    "        return \"image/gif\"\n",
    "    else:\n",
    "        raise ValueError(\"Unsupported image format\")\n",
    "\n",
    "\n",
    "mime_type = get_image_mime_type(image_a_path)\n",
    "\n",
    "# AIに入力として渡す画像を表示\n",
    "display(Image(image_a_path))"
   ]
  },
  {
   "cell_type": "code",
   "execution_count": 5,
   "id": "e8c78244",
   "metadata": {},
   "outputs": [
    {
     "name": "stdout",
     "output_type": "stream",
     "text": [
      "画像には、ダークブラウンのウッドトップのテーブルに置かれた開いた状態のシルバーのMacBookラップトップと、白いAppleワイヤレスマウスが写っています。ラップトップはテーブルの中央にややオフセットして置かれ、マウスはラップトップの右側にあります。画像の手前には、黒い布張りシートと白いシェルを備え、木製の脚を持つモダンなデザインの椅子の一部が見えます。この椅子はテーブルの左側に部分的に見えます。画像は全体的に暗く、落ち着いた色合いで、最小限のデザインとクリーンな美学が強調されています。全体として、この画像は、ミニマルなワークスペースまたはオフィス環境を表現しています。\n"
     ]
    }
   ],
   "source": [
    "from google.genai import types\n",
    "\n",
    "# AIに画像について質問\n",
    "response_a = client.models.generate_content(\n",
    "    model=model_id,\n",
    "    contents=[\n",
    "        \"この画像に写っているものを詳しく説明してください\",\n",
    "        types.Part.from_bytes(data=image_a, mime_type=mime_type),\n",
    "    ],\n",
    ")\n",
    "\n",
    "print(response_a.text)"
   ]
  },
  {
   "cell_type": "markdown",
   "id": "7c0340c5",
   "metadata": {},
   "source": [
    "#### 【演習】 先程と別の画像を使って質問する\n",
    "目標：画像や設定を変更してAIの出力が変わることを確認する\n",
    "\n",
    "手順\n",
    "- 先程使用した画像とは　別の画像（images/zeynep-sumer-lk3F07BN8T8-unsplash.jpgを使用するか、Colab上でアップロードする）を読み込んで画面上に表示する\n",
    "- 読み込んだ画像をAIの入力として設定し、AIに説明、推論してもらう"
   ]
  },
  {
   "cell_type": "code",
   "execution_count": null,
   "id": "78e3a713",
   "metadata": {},
   "outputs": [],
   "source": [
    "# 画像の読み込みや設定、表示\n",
    "import os\n",
    "\n",
    "from IPython.display import Image, display\n",
    "\n",
    "\n",
    "class ImagePreprocessor:\n",
    "    \"\"\"\n",
    "    画像ファイルを管理するユーティリティクラス\n",
    "    画像のパスを指定して初期化し、画像のMIMEタイプを取得したり、画像ファイルを読み込んでバイナリデータとして\n",
    "    返すことができます。\n",
    "    \"\"\"\n",
    "\n",
    "    def __init__(self, image_path: str):\n",
    "        \"\"\"\n",
    "        画像のパスを指定して初期化\n",
    "\n",
    "        Args:\n",
    "            image_path (str): 画像ファイルのパス\n",
    "        \"\"\"\n",
    "        self.image_path = image_path\n",
    "\n",
    "    @property\n",
    "    def mime_type(self) -> str:\n",
    "        \"\"\"\n",
    "        画像のMIMEタイプを取得\n",
    "\n",
    "        Returns:\n",
    "            str: 画像のMIMEタイプ\n",
    "        \"\"\"\n",
    "        return self._get_mime_type()\n",
    "\n",
    "    def load_image(self) -> bytes:\n",
    "        \"\"\"\n",
    "        画像ファイルを読み込み、バイナリデータとして返す\n",
    "\n",
    "        Returns:\n",
    "            bytes: 画像のバイナリデータ\n",
    "        \"\"\"\n",
    "        if not os.path.exists(self.image_path):\n",
    "            raise FileNotFoundError(\n",
    "                f\"指定された画像ファイルが見つかりません: {self.image_path}\"\n",
    "            )\n",
    "\n",
    "        with open(self.image_path, \"rb\") as image_file:\n",
    "            image_data = image_file.read()\n",
    "\n",
    "        return image_data\n",
    "\n",
    "    def _get_mime_type(self) -> str:\n",
    "        \"\"\"\n",
    "        画像のMIMEタイプを返す\n",
    "\n",
    "        Returns:\n",
    "            str: 画像のMIMEタイプ\n",
    "        \"\"\"\n",
    "        if self.image_path.lower().endswith(\".png\"):\n",
    "            return \"image/png\"\n",
    "        elif self.image_path.lower().endswith((\".jpg\", \".jpeg\")):\n",
    "            return \"image/jpeg\"\n",
    "        elif self.image_path.lower().endswith(\".webp\"):\n",
    "            return \"image/webp\"\n",
    "        else:\n",
    "            raise ValueError(\n",
    "                \"サポートされていない画像形式です。サポートされている形式はPNG、JPEG、WEBPです。\"\n",
    "            )\n",
    "\n",
    "image_path = \"images/zeynep-sumer-lk3F07BN8T8-unsplash.jpg\"\n",
    "\n",
    "# AIに入力として渡す画像を表示\n",
    "display(Image(image_path))\n"
   ]
  },
  {
   "cell_type": "code",
   "execution_count": 19,
   "id": "2ca8615d",
   "metadata": {},
   "outputs": [
    {
     "name": "stdout",
     "output_type": "stream",
     "text": [
      "この画像は、満開のヒマワリ畑のクローズアップです。手前の大きなヒマワリに焦点が合っており、鮮やかな黄色い花びらと濃い茶色の種のある中央部がはっきりと見えます。ヒマワリは茎にしっかりと立っており、その周りには、頭を下げて花びらが茶色くなった枯れかけたヒマワリがいくつかあります。\n",
      "\n",
      "背景には、緑の葉と黄色い花が散りばめられたヒマワリ畑が広がっており、遠くには木々の暗いシルエットが見えます。空は明るい色合いで、晴れた日であることを示唆しています。全体的な構図は、元気なヒマワリと枯れかけたヒマワリのコントラストが印象的で、生命のサイクルと季節の移り変わりを表しているようです。\n"
     ]
    }
   ],
   "source": [
    "from google.genai import types\n",
    "\n",
    "model_id = \"gemini-2.0-flash\"\n",
    "processor = ImagePreprocessor(image_path)\n",
    "\n",
    "# AIに画像について質問\n",
    "ai_response = client.models.generate_content(\n",
    "    model=model_id,\n",
    "    contents=[\n",
    "        \"この画像に写っているものを詳しく説明してください\",\n",
    "        types.Part.from_bytes(\n",
    "            data=processor.load_image(),\n",
    "            mime_type=processor.mime_type,\n",
    "        ),\n",
    "    ],\n",
    ")\n",
    "\n",
    "# AIの応答を表示\n",
    "print(ai_response.text)\n"
   ]
  },
  {
   "cell_type": "markdown",
   "id": "6b2ca4e8",
   "metadata": {},
   "source": [
    "#### WebAPIから画像を取得する場合の例"
   ]
  },
  {
   "cell_type": "code",
   "execution_count": null,
   "id": "f60aeafa",
   "metadata": {},
   "outputs": [
    {
     "data": {
      "image/jpeg": "[encoded data removed]",
      "text/plain": [
       "<IPython.core.display.Image object>"
      ]
     },
     "metadata": {},
     "output_type": "display_data"
    }
   ],
   "source": [
    "import requests\n",
    "from IPython.display import Image, display\n",
    "\n",
    "url = \"https://picsum.photos/512/512\"\n",
    "\n",
    "try:\n",
    "    response_img = requests.get(url)\n",
    "    response_img.raise_for_status()\n",
    "    display(Image(data=response_img.content))\n",
    "except requests.HTTPError as e:\n",
    "    print(f\"HTTP error occurred: {e}\")\n",
    "except Exception as e:\n",
    "    print(f\"An error occurred: {e}\")\n"
   ]
  },
  {
   "cell_type": "code",
   "execution_count": null,
   "id": "99c7f392",
   "metadata": {},
   "outputs": [
    {
     "name": "stdout",
     "output_type": "stream",
     "text": [
      "画像は、人が点火して燃えている線香花火を手に持っている様子を捉えています。花火は明るく輝いており、周囲は暗闇に包まれています。手はかすんでいますが、線香花火の光が強く放たれていることがわかります。画像全体は、暖かく祝祭的な雰囲気を感じさせます。\n"
     ]
    }
   ],
   "source": [
    "from google.genai import types\n",
    "\n",
    "# AIに画像について質問\n",
    "response_c = client.models.generate_content(\n",
    "    model=model_id,\n",
    "    contents=[\n",
    "        \"この画像に写っているものを詳しく説明してください\",\n",
    "        types.Part.from_bytes(data=response_img.content, mime_type=\"image/jpeg\"),\n",
    "    ],\n",
    ")\n",
    "\n",
    "print(response_c.text)\n"
   ]
  },
  {
   "cell_type": "markdown",
   "id": "9623ef6c",
   "metadata": {},
   "source": [
    "#### 構造化出力\n",
    "- 構造化出力は、AIモデルからの回答を予測可能で扱いやすい形式で取得するための重要な機能です。従来のテキスト応答とは異なり、JSON形式やスキーマ定義された形式での出力を保証することで、アプリケーション開発の効率性と信頼性を大幅に向上させます。\n",
    "- AIモデルからの応答を事前に定義されたスキーマに従って出力させる仕組みです。これにより、開発者は応答の形式を予測でき、後続の処理を安全に実行できます。"
   ]
  },
  {
   "cell_type": "code",
   "execution_count": 15,
   "id": "62d59fb3",
   "metadata": {},
   "outputs": [
    {
     "name": "stdout",
     "output_type": "stream",
     "text": [
      "SF小説ですね、承知いたしました。\n",
      "\n",
      "もしよろしければ、以下の作品をおすすめします。\n",
      "\n",
      "**テッド・チャン『あなたの人生の物語』**\n",
      "\n",
      "**おすすめポイント:**\n",
      "\n",
      "*   **知的興奮:** 言語学をテーマに、異星人とのコミュニケーションを通じて時間や認識の本質に迫る、非常に知的なSFです。\n",
      "*   **美しい文章:** 哲学的なテーマを扱いながらも、文章が美しく、読みやすいのが特徴です。\n",
      "*   **感動的な物語:** SF的な設定の中に、人間の感情や愛、運命といった普遍的なテーマが織り込まれており、心を揺さぶられます。\n",
      "*   **映画化作品:** 映画『メッセージ』の原作としても知られており、映像作品としても楽しめます。\n",
      "\n",
      "**あらすじ:**\n",
      "\n",
      "言語学者のルイーズは、地球に飛来した異星人「ヘプタポッド」とのコミュニケーションを政府から依頼される。彼らの言語を解読していくうちに、ルイーズは時間に対する認識が変化していく。\n",
      "\n",
      "この作品は短編集に収録されていますが、表題作である「あなたの人生の物語」は独立した長編としても読めるほどの読み応えがあります。\n",
      "\n",
      "もし、他に好みのジャンルやテーマがあれば、そちらに合わせたおすすめもできますので、お気軽にお知らせください。\n",
      "\n"
     ]
    }
   ],
   "source": [
    "from google import genai\n",
    "\n",
    "model_id = \"gemini-2.0-flash\"\n",
    "#　従来の応答\n",
    "client = genai.Client(api_key=GOOGLE_API_KEY)\n",
    "\n",
    "response = client.models.generate_content(\n",
    "    model=model_id,\n",
    "    contents=\"面白いSF小説を1冊おすすめしてください\",\n",
    ")\n",
    "print(response.text)"
   ]
  },
  {
   "cell_type": "code",
   "execution_count": null,
   "id": "c7e3e5f9",
   "metadata": {},
   "outputs": [
    {
     "name": "stdout",
     "output_type": "stream",
     "text": [
      "{\n",
      "  \"title\": \"ハイペリオン\",\n",
      "  \"author\": \"ダン・シモンズ\",\n",
      "  \"genre\": \"SF\",\n",
      "  \"publication_year\": 1989,\n",
      "  \"pages\": 608,\n",
      "  \"summary\": \"苦難の時代、ハイペリオン星に最後の望みを託し、様々な過去を持つ七人の巡礼者が向かう。そこで彼らを待ち受けるのは、恐るべき怪物だった。\"\n",
      "}\n"
     ]
    }
   ],
   "source": [
    "from google import genai\n",
    "from google.genai import types\n",
    "from pydantic import BaseModel, Field\n",
    "\n",
    "model_id = \"gemini-2.0-flash\"\n",
    "\n",
    "# データ構造を定義（Fieldで詳細な説明を追加）\n",
    "class BookInfo(BaseModel):\n",
    "    title: str = Field(description=\"本のタイトル\")\n",
    "    author: str = Field(description=\"著者名\")\n",
    "    genre: str = Field(description=\"ジャンル（小説、ノンフィクション、ビジネス書など）\")\n",
    "    publication_year: int = Field(description=\"出版年\", ge=1900, le=2025)\n",
    "    summary: str = Field(description=\"本の内容を要約した説明（100文字程度）\")\n",
    "    recommended_description: str = Field(\n",
    "        description=\"なぜこの本をおすすめするのかの説明（50文字程度）\"\n",
    "    )\n",
    "\n",
    "\n",
    "client = genai.Client(api_key=GOOGLE_API_KEY)\n",
    "\n",
    "response = client.models.generate_content(\n",
    "    model=model_id,\n",
    "    contents=\"おすすめな技術書を1冊教えてください\",\n",
    "    config=types.GenerateContentConfig(\n",
    "        response_mime_type=\"application/json\",\n",
    "        response_schema=BookInfo,\n",
    "    ),\n",
    ")\n",
    "\n",
    "print(response.text)\n"
   ]
  },
  {
   "cell_type": "code",
   "execution_count": 6,
   "id": "7eb098ae",
   "metadata": {},
   "outputs": [
    {
     "name": "stdout",
     "output_type": "stream",
     "text": [
      "{'title': 'ニューロマンサー', 'author': 'ウィリアム・ギブスン', 'genre': 'SF小説', 'publication_year': 1984, 'pages': 336, 'summary': '電脳空間を舞台にしたサイバーパンクSFの金字塔。ハッカーの主人公が、巨大な陰謀に巻き込まれていく。映像的な描写とスピーディーな展開が魅力。'}\n"
     ]
    }
   ],
   "source": [
    "import json\n",
    "\n",
    "data = json.loads(response.text)\n",
    "print(data)"
   ]
  },
  {
   "cell_type": "code",
   "execution_count": null,
   "id": "755f1767",
   "metadata": {},
   "outputs": [],
   "source": [
    "from enum import Enum\n",
    "from typing import List, Optional\n",
    "\n",
    "from pydantic import BaseModel, Field\n",
    "\n",
    "\n",
    "class DifficultyLevel(str, Enum):\n",
    "    BEGINNER = \"初級\"\n",
    "    INTERMEDIATE = \"中級\"\n",
    "    ADVANCED = \"上級\"\n",
    "\n",
    "\n",
    "class SkillInfo(BaseModel):\n",
    "    name: str = Field(description=\"スキル名\")\n",
    "    level: DifficultyLevel = Field(description=\"習得難易度\")\n",
    "    description: str = Field(description=\"スキルの説明\")\n",
    "\n",
    "\n",
    "class PersonInfo(BaseModel):\n",
    "    name: str = Field(description=\"人物の名前\")\n",
    "    age: int = Field(description=\"年齢\", ge=0, le=120)\n",
    "    occupation: str = Field(description=\"職業\")\n",
    "    hobbies: List[str] = Field(description=\"趣味のリスト（3-5個程度）\", max_items=5)\n",
    "    skills: List[SkillInfo] = Field(description=\"持っているスキルのリスト\")\n",
    "    bio: str = Field(description=\"人物の経歴や特徴（150文字程度）\")\n",
    "\n",
    "\n",
    "response = client.models.generate_content(\n",
    "    model=model_id,\n",
    "    contents=\"プログラマーの架空の人物プロフィールを作成してください\",\n",
    "    config=types.GenerateContentConfig(\n",
    "        response_mime_type=\"application/json\",\n",
    "        response_schema=PersonInfo,\n",
    "    ),\n",
    ")\n",
    "\n",
    "print(response.text)\n",
    "print(response.parsed)"
   ]
  },
  {
   "cell_type": "markdown",
   "id": "f0270601",
   "metadata": {},
   "source": [
    "#### 列挙型（Enum）での制限された回答\n",
    "特定の選択肢から回答を選んでもらいたい場合は、列挙型を使用できます。"
   ]
  },
  {
   "cell_type": "code",
   "execution_count": 21,
   "id": "3e2d8d8f",
   "metadata": {},
   "outputs": [
    {
     "name": "stdout",
     "output_type": "stream",
     "text": [
      "happy\n"
     ]
    }
   ],
   "source": [
    "from enum import Enum\n",
    "\n",
    "\n",
    "class MoodEnum(Enum):\n",
    "    HAPPY = \"happy\"\n",
    "    SAD = \"sad\"\n",
    "    CALM = \"calm\"\n",
    "\n",
    "response = client.models.generate_content(\n",
    "    model=model_id,\n",
    "    contents=\"明日が休日だと知った時の気持ちを表現してください\",\n",
    "    config=types.GenerateContentConfig(\n",
    "        response_mime_type=\"text/x.enum\",\n",
    "        response_schema=MoodEnum,\n",
    "    ),\n",
    ")\n",
    "\n",
    "print(response.text)\n"
   ]
  },
  {
   "cell_type": "markdown",
   "id": "8bb813a5",
   "metadata": {},
   "source": []
  },
  {
   "cell_type": "code",
   "execution_count": null,
   "id": "5fa2cf68",
   "metadata": {},
   "outputs": [],
   "source": [
    "from pydantic import BaseModel, Field\n",
    "\n",
    "class ReviewSentiment(str, Enum):\n",
    "    POSITIVE = \"positive\"\n",
    "    NEGATIVE = \"negative\"\n",
    "    NEUTRAL = \"neutral\"\n",
    "\n",
    "class ProductReview(BaseModel):\n",
    "    review_text: str = Field(description=\"製品レビューのテキスト\")\n",
    "    sentiment: ReviewSentiment = Field(\n",
    "        description=\"レビューの感情（positive, negative, neutral）\"\n",
    "    )\n",
    "\n",
    "def analyze_product_review(review_text: str) -> ProductReview | dict:\n",
    "    \"\"\"\n",
    "    製品レビューを分析し、感情を分類する関数\n",
    "\n",
    "    Args:\n",
    "        review_text (str): 製品レビューのテキスト\n",
    "\n",
    "    Returns:\n",
    "        ProductReview | dict: 分析結果のオブジェクトまたは辞書型が返されます。\n",
    "    \"\"\"\n",
    "    pass\n",
    "\n"
   ]
  },
  {
   "cell_type": "markdown",
   "id": "82687380",
   "metadata": {},
   "source": [
    "### ツールの使用（Function Calling）\n",
    "AIに外部の関数やツールを呼び出してもらう機能は、非常に強力です。天気情報の取得、データベースの検索、計算処理など、AIが自動的に適切なツールを選んで実行してくれます。"
   ]
  },
  {
   "cell_type": "code",
   "execution_count": null,
   "id": "12d23a1e",
   "metadata": {},
   "outputs": [],
   "source": [
    "from datetime import datetime\n",
    "from zoneinfo import ZoneInfo\n",
    "\n",
    "\n",
    "def get_current_time() -> str:\n",
    "    \"\"\"現在の時刻を取得します。\"\"\"\n",
    "    now = datetime.now(tz=ZoneInfo(\"Asia/Tokyo\"))\n",
    "    return now.strftime(\"%Y年%m月%d日 %H時%M分\")\n",
    "\n",
    "\n",
    "def calculate_area(length: float, width: float) -> float:\n",
    "    \"\"\"長方形の面積を計算します。\n",
    "\n",
    "    Args:\n",
    "        length: 長さ（メートル）\n",
    "        width: 幅（メートル）\n",
    "    \"\"\"\n",
    "    return length * width"
   ]
  },
  {
   "cell_type": "code",
   "execution_count": 52,
   "id": "0817b8bc",
   "metadata": {},
   "outputs": [
    {
     "name": "stdout",
     "output_type": "stream",
     "text": [
      "長方形の面積は15平方メートルです。\n",
      "\n"
     ]
    }
   ],
   "source": [
    "from google import genai\n",
    "from google.genai import types\n",
    "\n",
    "client = genai.Client(api_key=GOOGLE_API_KEY)\n",
    "prompt = \"長方形の面積を計算してください。縦の長さは5メートル、横の長さは3メートルです。\"\n",
    "\n",
    "response = client.models.generate_content(\n",
    "    model=model_id,\n",
    "    contents=prompt,\n",
    "    config=types.GenerateContentConfig(\n",
    "        tools=[\n",
    "            get_current_time,\n",
    "            calculate_area,\n",
    "        ]\n",
    "    )\n",
    ")\n",
    "\n",
    "print(response.text)"
   ]
  },
  {
   "cell_type": "markdown",
   "id": "b5ee981a",
   "metadata": {},
   "source": [
    "#### 自動関数呼び出しが行われないパターン"
   ]
  },
  {
   "cell_type": "markdown",
   "id": "100c9cf6",
   "metadata": {},
   "source": [
    "AIが関数を呼び出す必要がないと判断した場合"
   ]
  },
  {
   "cell_type": "code",
   "execution_count": 53,
   "id": "a7732961",
   "metadata": {},
   "outputs": [
    {
     "name": "stdout",
     "output_type": "stream",
     "text": [
      "私はGeminiという、Googleによって開発された大規模言語モデルです。質問に答えたり、さまざまなタスクを実行したりすることができます。  どうぞ、ご質問ください。\n",
      "\n"
     ]
    }
   ],
   "source": [
    "prompt = \"自己紹介をしてくれますか？\"\n",
    "\n",
    "response = client.models.generate_content(\n",
    "    model=model_id,\n",
    "    contents=prompt,\n",
    "    config=types.GenerateContentConfig(\n",
    "        tools=[\n",
    "            get_current_time,\n",
    "            calculate_area,\n",
    "        ]\n",
    "    ),\n",
    ")\n",
    "\n",
    "print(response.text)\n"
   ]
  },
  {
   "cell_type": "markdown",
   "id": "64f2916f",
   "metadata": {},
   "source": [
    "関数の説明が不適切な場合\n",
    "\n",
    "```python\n",
    "# ❌ 悪い例：説明が不十分\n",
    "def bad_function(x, y):\n",
    "    return x * y\n",
    "\n",
    "# ✅ 良い例：詳細な説明\n",
    "def calculate_area(length: float, width: float) -> float:\n",
    "    \"\"\"長方形の面積を計算します。\n",
    "    \n",
    "    Args:\n",
    "        length: 長さ（メートル）\n",
    "        width: 幅（メートル）\n",
    "    \n",
    "    Returns:\n",
    "        面積（平方メートル）\n",
    "    \"\"\"\n",
    "    return length * width\n",
    "```"
   ]
  },
  {
   "cell_type": "markdown",
   "id": "c63396b6",
   "metadata": {},
   "source": [
    "自動関数呼び出しを無効にした場合"
   ]
  },
  {
   "cell_type": "code",
   "execution_count": 57,
   "id": "8159d40e",
   "metadata": {},
   "outputs": [
    {
     "name": "stdout",
     "output_type": "stream",
     "text": [
      "[FunctionCall(id=None, args={'width': 3, 'length': 5}, name='calculate_area')]\n"
     ]
    }
   ],
   "source": [
    "prompt = \"長方形の面積を計算してください。縦の長さは5メートル、横の長さは3メートルです。\"\n",
    "\n",
    "response = client.models.generate_content(\n",
    "    model=model_id,\n",
    "    contents=prompt,\n",
    "    config=types.GenerateContentConfig(\n",
    "        tools=[\n",
    "            get_current_time,\n",
    "            calculate_area,\n",
    "        ],\n",
    "        automatic_function_calling=types.AutomaticFunctionCallingConfig(\n",
    "            disable=True  # 自動関数呼び出しを無効化\n",
    "        )\n",
    "    ),\n",
    ")\n",
    "\n",
    "print(response.function_calls)\n"
   ]
  },
  {
   "cell_type": "markdown",
   "id": "6b568c2a",
   "metadata": {},
   "source": [
    "#### 【演習】　AIに一つのテーマを元にブログ記事を書いてもらい、内容を評価してもらう\n",
    "\n",
    "手順：\n",
    "- ユーザーがAIに書いてほしいテーマをプロンプトに質問する（例：カレーの作り方に関するブログ記事を書いて）\n",
    "- AIがプロンプトのテーマを元にブログ記事を生成する\n",
    "- AIで生成された記事をAIに評価してもらう"
   ]
  },
  {
   "cell_type": "code",
   "execution_count": null,
   "id": "82fdc6e4",
   "metadata": {},
   "outputs": [],
   "source": [
    "def create_blog_article(topic: str) -> str:\n",
    "    \"\"\"\n",
    "    AIに指定されたテーマでブログ記事を生成させる関数\n",
    "    \"\"\"\n",
    "    prompt = f\"\"\"\n",
    "    以下の条件でブログ記事を作成してください：\n",
    "\n",
    "    トピック: {topic}\n",
    "\n",
    "    以下の要素を含めてください：\n",
    "    - 魅力的なタイトル\n",
    "    - 分かりやすい見出し構成\n",
    "    - 具体的な例や説明\n",
    "    - 読者にとって役立つ情報\n",
    "\n",
    "    マークダウン形式で出力してください。\n",
    "    \"\"\"\n",
    "\n",
    "\n",
    "def evaluate_article(article: str) -> str:\n",
    "    \"\"\"\n",
    "    記事の品質を評価し、改善点を見つける関数\n",
    "\n",
    "    引数:\n",
    "        article: 評価したい記事（文字列）\n",
    "\n",
    "    戻り値:\n",
    "        評価結果と改善提案（文字列）\n",
    "    \"\"\"\n",
    "    evaluation_prompt = f\"\"\"\n",
    "    以下のブログ記事を読んで、改善できる点を教えてください：\n",
    "\n",
    "    === 記事内容 ===\n",
    "    {article}\n",
    "\n",
    "    以下の観点で評価してください：\n",
    "    1. タイトルの魅力度\n",
    "    2. 内容の分かりやすさ\n",
    "    3. 具体例の豊富さ\n",
    "    4. 読者にとっての有用性\n",
    "    5. 文章の読みやすさ\n",
    "\n",
    "    それぞれの改善提案を具体的に教えてください。\n",
    "    \"\"\"\n"
   ]
  },
  {
   "cell_type": "code",
   "execution_count": null,
   "id": "bcd7c6d8",
   "metadata": {},
   "outputs": [],
   "source": [
    "import requests\n",
    "import json\n",
    "from typing import Dict, List, Optional, Union\n",
    "\n",
    "\n",
    "class JSONPlaceholderClient:\n",
    "    \"\"\"\n",
    "    JSONPlaceholder APIとの通信を行うクライアントクラス\n",
    "    ユーザーや投稿の取得、投稿の作成・更新・削除を提供\n",
    "    \"\"\"\n",
    "\n",
    "    def __init__(self, base_url: str = \"https://jsonplaceholder.typicode.com\"):\n",
    "        \"\"\"\n",
    "        クライアントを初期化\n",
    "\n",
    "        Args:\n",
    "            base_url (str): JSONPlaceholder APIのベースURL\n",
    "        \"\"\"\n",
    "        self.base_url = base_url.rstrip(\"/\")\n",
    "        self.session = requests.Session()\n",
    "        # デフォルトヘッダーを設定\n",
    "        self.session.headers.update({\"Content-Type\": \"application/json; charset=UTF-8\"})\n",
    "\n",
    "    def _make_request(self, method: str, endpoint: str, **kwargs) -> requests.Response:\n",
    "        \"\"\"\n",
    "        HTTPリクエストを実行する内部メソッド\n",
    "\n",
    "        Args:\n",
    "            method (str): HTTPメソッド (GET, POST, PUT, DELETE)\n",
    "            endpoint (str): APIエンドポイント\n",
    "            **kwargs: requestsライブラリに渡す追加パラメータ\n",
    "\n",
    "        Returns:\n",
    "            requests.Response: HTTPレスポンス\n",
    "\n",
    "        Raises:\n",
    "            requests.RequestException: リクエストエラーが発生した場合\n",
    "        \"\"\"\n",
    "        url = f\"{self.base_url}/{endpoint.lstrip('/')}\"\n",
    "\n",
    "        try:\n",
    "            response = self.session.request(method, url, **kwargs)\n",
    "            response.raise_for_status()\n",
    "            return response\n",
    "        except requests.RequestException as e:\n",
    "            print(f\"リクエストエラーが発生しました: {e}\")\n",
    "            raise\n",
    "\n",
    "    # ユーザー関連のメソッド\n",
    "    def get_users(self) -> List[Dict]:\n",
    "        \"\"\"\n",
    "        全ユーザーを取得\n",
    "\n",
    "        Returns:\n",
    "            List[Dict]: ユーザー情報のリスト\n",
    "        \"\"\"\n",
    "        response = self._make_request(\"GET\", \"/users\")\n",
    "        return response.json()\n",
    "\n",
    "    def get_user(self, user_id: int) -> Dict:\n",
    "        \"\"\"\n",
    "        指定されたIDのユーザーを取得\n",
    "\n",
    "        Args:\n",
    "            user_id (int): ユーザーID\n",
    "\n",
    "        Returns:\n",
    "            Dict: ユーザー情報\n",
    "        \"\"\"\n",
    "        response = self._make_request(\"GET\", f\"/users/{user_id}\")\n",
    "        return response.json()\n",
    "\n",
    "    def get_user_posts(self, user_id: int) -> List[Dict]:\n",
    "        \"\"\"\n",
    "        指定されたユーザーの投稿を取得\n",
    "\n",
    "        Args:\n",
    "            user_id (int): ユーザーID\n",
    "\n",
    "        Returns:\n",
    "            List[Dict]: 投稿のリスト\n",
    "        \"\"\"\n",
    "        response = self._make_request(\"GET\", f\"/users/{user_id}/posts\")\n",
    "        return response.json()\n",
    "\n",
    "    # 投稿関連のメソッド\n",
    "    def get_posts(self, user_id: Optional[int] = None) -> List[Dict]:\n",
    "        \"\"\"\n",
    "        投稿を取得（オプションでユーザーでフィルタリング可能）\n",
    "\n",
    "        Args:\n",
    "            user_id (Optional[int]): フィルタリングするユーザーID\n",
    "\n",
    "        Returns:\n",
    "            List[Dict]: 投稿のリスト\n",
    "        \"\"\"\n",
    "        endpoint = \"/posts\"\n",
    "        params = {}\n",
    "        if user_id is not None:\n",
    "            params[\"userId\"] = user_id\n",
    "\n",
    "        response = self._make_request(\"GET\", endpoint, params=params)\n",
    "        return response.json()\n",
    "\n",
    "    def get_post(self, post_id: int) -> Dict:\n",
    "        \"\"\"\n",
    "        指定されたIDの投稿を取得\n",
    "\n",
    "        Args:\n",
    "            post_id (int): 投稿ID\n",
    "\n",
    "        Returns:\n",
    "            Dict: 投稿情報\n",
    "        \"\"\"\n",
    "        response = self._make_request(\"GET\", f\"/posts/{post_id}\")\n",
    "        return response.json()\n",
    "\n",
    "    def create_post(self, title: str, body: str, user_id: int) -> Dict:\n",
    "        \"\"\"\n",
    "        新しい投稿を作成\n",
    "\n",
    "        Args:\n",
    "            title (str): 投稿のタイトル\n",
    "            body (str): 投稿の本文\n",
    "            user_id (int): 投稿者のユーザーID\n",
    "\n",
    "        Returns:\n",
    "            Dict: 作成された投稿情報\n",
    "        \"\"\"\n",
    "        post_data = {\"title\": title, \"body\": body, \"userId\": user_id}\n",
    "\n",
    "        response = self._make_request(\"POST\", \"/posts\", json=post_data)\n",
    "        return response.json()\n",
    "\n",
    "    def update_post(\n",
    "        self, post_id: int, title: str = None, body: str = None, user_id: int = None\n",
    "    ) -> Dict:\n",
    "        \"\"\"\n",
    "        既存の投稿を更新\n",
    "\n",
    "        Args:\n",
    "            post_id (int): 更新する投稿のID\n",
    "            title (str, optional): 新しいタイトル\n",
    "            body (str, optional): 新しい本文\n",
    "            user_id (int, optional): 新しいユーザーID\n",
    "\n",
    "        Returns:\n",
    "            Dict: 更新された投稿情報\n",
    "        \"\"\"\n",
    "        # 現在の投稿を取得\n",
    "        current_post = self.get_post(post_id)\n",
    "\n",
    "        # 指定された値で更新\n",
    "        if title is not None:\n",
    "            current_post[\"title\"] = title\n",
    "        if body is not None:\n",
    "            current_post[\"body\"] = body\n",
    "        if user_id is not None:\n",
    "            current_post[\"userId\"] = user_id\n",
    "\n",
    "        response = self._make_request(\"PUT\", f\"/posts/{post_id}\", json=current_post)\n",
    "        return response.json()\n",
    "\n",
    "    def patch_post(self, post_id: int, **kwargs) -> Dict:\n",
    "        \"\"\"\n",
    "        投稿の部分更新\n",
    "\n",
    "        Args:\n",
    "            post_id (int): 更新する投稿のID\n",
    "            **kwargs: 更新するフィールドと値\n",
    "\n",
    "        Returns:\n",
    "            Dict: 更新された投稿情報\n",
    "        \"\"\"\n",
    "        response = self._make_request(\"PATCH\", f\"/posts/{post_id}\", json=kwargs)\n",
    "        return response.json()\n",
    "\n",
    "    def delete_post(self, post_id: int) -> bool:\n",
    "        \"\"\"\n",
    "        投稿を削除\n",
    "\n",
    "        Args:\n",
    "            post_id (int): 削除する投稿のID\n",
    "\n",
    "        Returns:\n",
    "            bool: 削除が成功した場合True\n",
    "        \"\"\"\n",
    "        response = self._make_request(\"DELETE\", f\"/posts/{post_id}\")\n",
    "        return response.status_code == 200\n",
    "\n",
    "    # コメント関連のメソッド\n",
    "    def get_post_comments(self, post_id: int) -> List[Dict]:\n",
    "        \"\"\"\n",
    "        指定された投稿のコメントを取得\n",
    "\n",
    "        Args:\n",
    "            post_id (int): 投稿ID\n",
    "\n",
    "        Returns:\n",
    "            List[Dict]: コメントのリスト\n",
    "        \"\"\"\n",
    "        response = self._make_request(\"GET\", f\"/posts/{post_id}/comments\")\n",
    "        return response.json()\n",
    "\n",
    "    def get_comments(self, post_id: Optional[int] = None) -> List[Dict]:\n",
    "        \"\"\"\n",
    "        コメントを取得（オプションで投稿でフィルタリング可能）\n",
    "\n",
    "        Args:\n",
    "            post_id (Optional[int]): フィルタリングする投稿ID\n",
    "\n",
    "        Returns:\n",
    "            List[Dict]: コメントのリスト\n",
    "        \"\"\"\n",
    "        endpoint = \"/comments\"\n",
    "        params = {}\n",
    "        if post_id is not None:\n",
    "            params[\"postId\"] = post_id\n",
    "\n",
    "        response = self._make_request(\"GET\", endpoint, params=params)\n",
    "        return response.json()\n",
    "\n",
    "\n",
    "jsonplaceholder_client = JSONPlaceholderClient()\n",
    "# ユーザー情報を取得\n",
    "users = jsonplaceholder_client.get_users()\n",
    "print(f\"取得したユーザー数: {len(users)}\")\n",
    "print(f\"最初のユーザー: {users[0]}\")\n",
    "post_comments = jsonplaceholder_client.get_post_comments(post_id=1)\n",
    "print(f\"投稿ID 1のコメント数: {len(post_comments)}\")\n",
    "print(f\"最初のコメント: {post_comments[0]}\")\n",
    "update_response = jsonplaceholder_client.update_post(\n",
    "    post_id=1, title=\"更新されたタイトル\", body=\"更新された本文\", user_id=1\n",
    ")\n",
    "print(f\"更新された投稿: {update_response}\")\n"
   ]
  }
 ],
 "metadata": {
  "kernelspec": {
   "display_name": "section01-jsonplaceholder",
   "language": "python",
   "name": "python3"
  },
  "language_info": {
   "codemirror_mode": {
    "name": "ipython",
    "version": 3
   },
   "file_extension": ".py",
   "mimetype": "text/x-python",
   "name": "python",
   "nbconvert_exporter": "python",
   "pygments_lexer": "ipython3",
   "version": "3.11.2"
  }
 },
 "nbformat": 4,
 "nbformat_minor": 5
}
